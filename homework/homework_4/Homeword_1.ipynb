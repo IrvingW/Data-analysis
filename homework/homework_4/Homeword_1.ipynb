{
 "cells": [
  {
   "cell_type": "code",
   "execution_count": 4,
   "metadata": {
    "collapsed": false
   },
   "outputs": [
    {
     "name": "stdout",
     "output_type": "stream",
     "text": [
      "请输入摄氏温度：12\n",
      "12.0 摄氏度转化为华氏度为：53.6\n"
     ]
    }
   ],
   "source": [
    "# Question 1\n",
    "# F = C * 1.8 + 32\n",
    "celsius = float(input('请输入摄氏温度：'))\n",
    "fahrenheit = celsius * 1.8 + 32\n",
    "print(\"%0.1f 摄氏度转化为华氏度为：%0.1f\" %(celsius, fahrenheit))"
   ]
  },
  {
   "cell_type": "code",
   "execution_count": 19,
   "metadata": {
    "collapsed": false
   },
   "outputs": [
    {
     "name": "stdout",
     "output_type": "stream",
     "text": [
      "Enter score:-0.1\n",
      "Bad score\n"
     ]
    }
   ],
   "source": [
    "# Question 2\n",
    "def main():\n",
    "    score_list=[0.9, 0.8, 0.7, 0.6]\n",
    "    rank_list=['A', 'B', 'C', 'D']\n",
    "    input_score = input('Enter score:')\n",
    "    # check input\n",
    "    try:\n",
    "        score = float(input_score)\n",
    "    except Exception:\n",
    "        print(\"Bad score\")\n",
    "        return\n",
    "    if score > 1.0 or score < 0.0:\n",
    "        print(\"Bad score\")\n",
    "        return\n",
    "    \n",
    "    for index in range(4):\n",
    "        if score >= score_list[index]:\n",
    "            print(rank_list[index])\n",
    "            return\n",
    "    print('F')\n",
    "    return\n",
    "\n",
    "main()\n"
   ]
  },
  {
   "cell_type": "code",
   "execution_count": 22,
   "metadata": {
    "collapsed": false
   },
   "outputs": [
    {
     "name": "stdout",
     "output_type": "stream",
     "text": [
      "The list is: [0, 1, 2, 3]\n",
      "The length of the list is: 4\n",
      "The biggest number in this list is: 3\n",
      "The biggest number in this list is: 0\n"
     ]
    }
   ],
   "source": [
    "# Question 3\n",
    "list = [0, 1, 2, 3]\n",
    "print('The list is:',list)\n",
    "print('The length of the list is:',len(list))\n",
    "print('The biggest number in this list is:',max(list))\n",
    "print('The biggest number in this list is:',min(list))"
   ]
  },
  {
   "cell_type": "code",
   "execution_count": 25,
   "metadata": {
    "collapsed": false
   },
   "outputs": [
    {
     "name": "stdout",
     "output_type": "stream",
     "text": [
      "The source words are: ['appple', 'bat', 'bear', 'atom', 'book']\n",
      "The result is: {'a': ['appple', 'atom'], 'b': ['bat', 'bear', 'book']}\n"
     ]
    }
   ],
   "source": [
    "words =['appple', 'bat', 'bear','atom','book']\n",
    "dest_dict = {}\n",
    "\n",
    "for word in words:\n",
    "    first_letter = word[0]\n",
    "    if first_letter not in dest_dict:\n",
    "        dest_dict[first_letter] = [word]\n",
    "    else:\n",
    "        dest_dict[first_letter].append(word)\n",
    "\n",
    "print(\"The source words are:\",words)\n",
    "print(\"The result is:\",dest_dict)"
   ]
  }
 ],
 "metadata": {
  "anaconda-cloud": {},
  "kernelspec": {
   "display_name": "Python [default]",
   "language": "python",
   "name": "python3"
  },
  "language_info": {
   "codemirror_mode": {
    "name": "ipython",
    "version": 3
   },
   "file_extension": ".py",
   "mimetype": "text/x-python",
   "name": "python",
   "nbconvert_exporter": "python",
   "pygments_lexer": "ipython3",
   "version": "3.5.2"
  }
 },
 "nbformat": 4,
 "nbformat_minor": 1
}
