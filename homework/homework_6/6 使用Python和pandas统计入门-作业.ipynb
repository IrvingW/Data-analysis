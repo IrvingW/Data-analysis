{
 "cells": [
  {
   "cell_type": "markdown",
   "metadata": {},
   "source": [
    "<h1, align=center> &nbsp;&nbsp;&nbsp;&nbsp;&nbsp;&nbsp;&nbsp;数据科学引论 - Python之道 </h1>\n",
    "\n",
    "<h1, align=center> &nbsp;&nbsp;&nbsp;&nbsp;&nbsp;&nbsp;&nbsp;&nbsp;第6课 使用Python和pandas统计入门 - 作业 </h1>"
   ]
  },
  {
   "cell_type": "markdown",
   "metadata": {},
   "source": [
    "某个国家想为9年级学生删去一些预修课程。9年级一共有156577名学生在上这些课程。作为一个数据科学家，你需要去决定哪些课程需要保留，哪些需要删除。为此，你需要统计一些数据，并且以直方图形式展示，最后给出你的答案。\n"
   ]
  },
  {
   "cell_type": "markdown",
   "metadata": {},
   "source": [
    "<h2, align=center>获得数据</h2>"
   ]
  },
  {
   "cell_type": "markdown",
   "metadata": {},
   "source": [
    "现在，我们先通过下面链接得到csv数据文件"
   ]
  },
  {
   "cell_type": "code",
   "execution_count": 17,
   "metadata": {
    "collapsed": false
   },
   "outputs": [
    {
     "name": "stdout",
     "output_type": "stream",
     "text": [
      "--2017-11-24 13:39:38--  https://ibm.box.com/shared/static/nx0f9mgmw2d1ysgyj9d77focjejxs849.csv\n",
      "正在解析主机 ibm.box.com (ibm.box.com)... 107.152.24.197\n",
      "正在连接 ibm.box.com (ibm.box.com)|107.152.24.197|:443... 已连接。\n",
      "已发出 HTTP 请求，正在等待回应... 301 Moved Permanently\n",
      "位置：https://ibm.ent.box.com/shared/static/nx0f9mgmw2d1ysgyj9d77focjejxs849.csv [跟随至新的 URL]\n",
      "--2017-11-24 13:39:39--  https://ibm.ent.box.com/shared/static/nx0f9mgmw2d1ysgyj9d77focjejxs849.csv\n",
      "正在解析主机 ibm.ent.box.com (ibm.ent.box.com)... 107.152.24.211\n",
      "正在连接 ibm.ent.box.com (ibm.ent.box.com)|107.152.24.211|:443... 已连接。\n",
      "已发出 HTTP 请求，正在等待回应... 302 Found\n",
      "位置：https://public.boxcloud.com/d/1/PLbJxjqxDnrCD1065ybthQ09pMLYLunyt4Fpkr5C2noumoPr7a929on3W78nZDVK-3CjJ9kMeOuQh9OV8ruFR3u8N7wkT4_Uh6NdBtHxK7anbsNKzJc7ifTK1a6OQYcMfBJWhGymGZC3SrSNgTJ0CNa9_hi6s2C9p-VbTTr5kVSk-VSg8RinP_t4glzEvC6vtRMT9aupyro0pLKHIEixNM0ZUf0jizJ9eT0vPTmrEuz26etEe3cgcEALLF_bU_87UauvS0uY_72W5cwSjiUzDOKALENb_5GgBevQhNu336e6N71m2UOczncy7P40i3TIl-ocK1Zct1gMP785Kmx5zFBIAOroUtnKi5CXutN9Ke4iOjjMRq0sLewIe8V7d_AcHhOo-jQlrnSbHOZINCRN-aJvQAmzynSFz33hiONHs108Pt1jnUWIHIxr7VW0Ocz9zjGi3IzocaNA3k4UhP03AQjq9wJlUbsVo9LqyAsZVO9H4zNVW2e9hCbnKllwfh6o78_q17ZorW2n2s2u7SVFKCxq7_Ema5IEzAduWJmP8nG3z_yqc41Y8exG3QVaBSPvPd4aEZAIYtMzu9MNPp7SSd2m-HI8qW3QQSLhESIdHw0LEL0IH9PlvR-rNzWAsF7ihCaczBMRW5kLP1-TzHl2t22fdmrxzKuwnF9icGZIujXMk7f1bRGsNoaSN-Z9V9AW4V08KO285BY6i9xUIGoFhXiKcNe5xqif4hyN9a9diYVXU3_b6k6lkW4SdVw4S9ZHh71yrO0eksgmK2L4xof_yFUEBAJIa7E2WpZ4y9JRIGcf7W4Alcn_etDW8lIYSHzJlMdOjg4_G0dJtneVPNnmnRK1pHg-DfNG0HyhLBbQ3ZEegojmWTgg37pdzFW_wNDhDab4nXPnLrNoFeAvJ4O6ilHlZcBhUmKAGA9kN3kT8HBEqBp1fZHht1UwZegGXxvX9JHWGB_6KfYJV-NoFZQGWw7DR932bGens7wJfvZHaE4AplEs_HBN4dOS153O_Wz_rO2f5K9jPrta8d2XX3g9FLFnrGNPFTRZQgG_emxIoiD0zBS_E2sdPVmPI45V_IvgSa_IfEMEOO2fTkPhJYkHw9N9lxagzh9pagdGWk879IlkqND_FvNpR5MnLzCE9ZC3yto_paxQ29KY4iw6PJYEH39l6pTwlozb5eWhryXumF2z_Q2Oie5Kl82hHjl9MlLl_yUuAYM4Ki5hpzhn/download [跟随至新的 URL]\n",
      "--2017-11-24 13:39:42--  https://public.boxcloud.com/d/1/PLbJxjqxDnrCD1065ybthQ09pMLYLunyt4Fpkr5C2noumoPr7a929on3W78nZDVK-3CjJ9kMeOuQh9OV8ruFR3u8N7wkT4_Uh6NdBtHxK7anbsNKzJc7ifTK1a6OQYcMfBJWhGymGZC3SrSNgTJ0CNa9_hi6s2C9p-VbTTr5kVSk-VSg8RinP_t4glzEvC6vtRMT9aupyro0pLKHIEixNM0ZUf0jizJ9eT0vPTmrEuz26etEe3cgcEALLF_bU_87UauvS0uY_72W5cwSjiUzDOKALENb_5GgBevQhNu336e6N71m2UOczncy7P40i3TIl-ocK1Zct1gMP785Kmx5zFBIAOroUtnKi5CXutN9Ke4iOjjMRq0sLewIe8V7d_AcHhOo-jQlrnSbHOZINCRN-aJvQAmzynSFz33hiONHs108Pt1jnUWIHIxr7VW0Ocz9zjGi3IzocaNA3k4UhP03AQjq9wJlUbsVo9LqyAsZVO9H4zNVW2e9hCbnKllwfh6o78_q17ZorW2n2s2u7SVFKCxq7_Ema5IEzAduWJmP8nG3z_yqc41Y8exG3QVaBSPvPd4aEZAIYtMzu9MNPp7SSd2m-HI8qW3QQSLhESIdHw0LEL0IH9PlvR-rNzWAsF7ihCaczBMRW5kLP1-TzHl2t22fdmrxzKuwnF9icGZIujXMk7f1bRGsNoaSN-Z9V9AW4V08KO285BY6i9xUIGoFhXiKcNe5xqif4hyN9a9diYVXU3_b6k6lkW4SdVw4S9ZHh71yrO0eksgmK2L4xof_yFUEBAJIa7E2WpZ4y9JRIGcf7W4Alcn_etDW8lIYSHzJlMdOjg4_G0dJtneVPNnmnRK1pHg-DfNG0HyhLBbQ3ZEegojmWTgg37pdzFW_wNDhDab4nXPnLrNoFeAvJ4O6ilHlZcBhUmKAGA9kN3kT8HBEqBp1fZHht1UwZegGXxvX9JHWGB_6KfYJV-NoFZQGWw7DR932bGens7wJfvZHaE4AplEs_HBN4dOS153O_Wz_rO2f5K9jPrta8d2XX3g9FLFnrGNPFTRZQgG_emxIoiD0zBS_E2sdPVmPI45V_IvgSa_IfEMEOO2fTkPhJYkHw9N9lxagzh9pagdGWk879IlkqND_FvNpR5MnLzCE9ZC3yto_paxQ29KY4iw6PJYEH39l6pTwlozb5eWhryXumF2z_Q2Oie5Kl82hHjl9MlLl_yUuAYM4Ki5hpzhn/download\n",
      "正在解析主机 public.boxcloud.com (public.boxcloud.com)... 107.152.24.200\n",
      "正在连接 public.boxcloud.com (public.boxcloud.com)|107.152.24.200|:443... 已连接。\n",
      "已发出 HTTP 请求，正在等待回应... 200 OK\n",
      "长度： 838 [text/csv]\n",
      "正在保存至: “./Grade9.csv”\n",
      "\n",
      "./Grade9.csv        100%[===================>]     838  --.-KB/s    in 0s      \n",
      "\n",
      "2017-11-24 13:39:45 (22.5 MB/s) - 已保存 “./Grade9.csv” [838/838])\n",
      "\n"
     ]
    }
   ],
   "source": [
    "!wget --output-document ./Grade9.csv https://ibm.box.com/shared/static/nx0f9mgmw2d1ysgyj9d77focjejxs849.csv\n",
    "#自行下载"
   ]
  },
  {
   "cell_type": "markdown",
   "metadata": {},
   "source": [
    "### 载入所需的 `pandas` 库"
   ]
  },
  {
   "cell_type": "code",
   "execution_count": 1,
   "metadata": {
    "collapsed": true
   },
   "outputs": [],
   "source": [
    "import pandas as pd\n",
    "import numpy as np\n",
    "import matplotlib.pyplot as plt\n",
    "import matplotlib.mlab as mlab\n",
    "%matplotlib inline "
   ]
  },
  {
   "cell_type": "markdown",
   "metadata": {},
   "source": [
    "#### 使用`pd.read_csv` 导入数据"
   ]
  },
  {
   "cell_type": "markdown",
   "metadata": {},
   "source": [
    "数据中，第一列代表课程名，第二列代表课程的学生人数"
   ]
  },
  {
   "cell_type": "code",
   "execution_count": 2,
   "metadata": {
    "collapsed": false
   },
   "outputs": [],
   "source": [
    "#linux StudentInfo = pd.read_csv('/resources/data/Grade9.csv')\n",
    "StudentInfo = pd.read_csv('./Grade9.csv')"
   ]
  },
  {
   "cell_type": "markdown",
   "metadata": {},
   "source": [
    "### 清洗数据"
   ]
  },
  {
   "cell_type": "code",
   "execution_count": 3,
   "metadata": {
    "collapsed": false
   },
   "outputs": [],
   "source": [
    "Names=StudentInfo[['Unnamed: 0']].values.flatten()\n",
    "StudentInfo=StudentInfo.set_index(Names)\n",
    "del StudentInfo['Unnamed: 0']"
   ]
  },
  {
   "cell_type": "code",
   "execution_count": 4,
   "metadata": {
    "collapsed": false
   },
   "outputs": [
    {
     "data": {
      "text/html": [
       "<div>\n",
       "<table border=\"1\" class=\"dataframe\">\n",
       "  <thead>\n",
       "    <tr style=\"text-align: right;\">\n",
       "      <th></th>\n",
       "      <th>Students (9th Grade)</th>\n",
       "    </tr>\n",
       "  </thead>\n",
       "  <tbody>\n",
       "    <tr>\n",
       "      <th>ART HISTORY</th>\n",
       "      <td>345</td>\n",
       "    </tr>\n",
       "    <tr>\n",
       "      <th>BIOLOGY</th>\n",
       "      <td>3995</td>\n",
       "    </tr>\n",
       "    <tr>\n",
       "      <th>CALCULUS AB</th>\n",
       "      <td>727</td>\n",
       "    </tr>\n",
       "    <tr>\n",
       "      <th>CALCULUS BC</th>\n",
       "      <td>451</td>\n",
       "    </tr>\n",
       "    <tr>\n",
       "      <th>CHEMISTRY</th>\n",
       "      <td>338</td>\n",
       "    </tr>\n",
       "    <tr>\n",
       "      <th>CHINESE LANGUAGE &amp; CULTURE</th>\n",
       "      <td>1456</td>\n",
       "    </tr>\n",
       "    <tr>\n",
       "      <th>COMPUTER SCIENCE A</th>\n",
       "      <td>1365</td>\n",
       "    </tr>\n",
       "    <tr>\n",
       "      <th>MACROECONOMICS</th>\n",
       "      <td>557</td>\n",
       "    </tr>\n",
       "    <tr>\n",
       "      <th>MICROECONOMICS</th>\n",
       "      <td>520</td>\n",
       "    </tr>\n",
       "    <tr>\n",
       "      <th>ENGLISH LANGUAGE &amp; COMPOSITION</th>\n",
       "      <td>334</td>\n",
       "    </tr>\n",
       "    <tr>\n",
       "      <th>ENGLISH LITERATURE &amp; COMPOSITION</th>\n",
       "      <td>95</td>\n",
       "    </tr>\n",
       "    <tr>\n",
       "      <th>ENVIRONMENTAL SCIENCE</th>\n",
       "      <td>5041</td>\n",
       "    </tr>\n",
       "    <tr>\n",
       "      <th>EUROPEAN HISTORY</th>\n",
       "      <td>1157</td>\n",
       "    </tr>\n",
       "    <tr>\n",
       "      <th>FRENCH LANGUAGE &amp; CULTURE</th>\n",
       "      <td>264</td>\n",
       "    </tr>\n",
       "    <tr>\n",
       "      <th>GERMAN LANGUAGE &amp; CULTURE</th>\n",
       "      <td>100</td>\n",
       "    </tr>\n",
       "    <tr>\n",
       "      <th>GOVERNMENT &amp; POLITICS: COMPARATIVE</th>\n",
       "      <td>103</td>\n",
       "    </tr>\n",
       "    <tr>\n",
       "      <th>GOVERNMENT &amp; POLITICS: U.S.</th>\n",
       "      <td>8222</td>\n",
       "    </tr>\n",
       "    <tr>\n",
       "      <th>HUMAN GEOGRAPHY</th>\n",
       "      <td>115711</td>\n",
       "    </tr>\n",
       "    <tr>\n",
       "      <th>ITALIAN LANGUAGE &amp; CULTURE</th>\n",
       "      <td>56</td>\n",
       "    </tr>\n",
       "    <tr>\n",
       "      <th>JAPANESE LANGUAGE &amp; CULTURE</th>\n",
       "      <td>187</td>\n",
       "    </tr>\n",
       "    <tr>\n",
       "      <th>LATIN</th>\n",
       "      <td>14</td>\n",
       "    </tr>\n",
       "    <tr>\n",
       "      <th>MUSIC THEORY</th>\n",
       "      <td>289</td>\n",
       "    </tr>\n",
       "    <tr>\n",
       "      <th>PHYSICS C: ELECTRICITY &amp; MAGNETISM</th>\n",
       "      <td>24</td>\n",
       "    </tr>\n",
       "    <tr>\n",
       "      <th>PHYSICS C: MECHANICS</th>\n",
       "      <td>60</td>\n",
       "    </tr>\n",
       "    <tr>\n",
       "      <th>PHYSICS 1</th>\n",
       "      <td>1790</td>\n",
       "    </tr>\n",
       "    <tr>\n",
       "      <th>PHYSICS 2</th>\n",
       "      <td>59</td>\n",
       "    </tr>\n",
       "    <tr>\n",
       "      <th>PSYCHOLOGY</th>\n",
       "      <td>1322</td>\n",
       "    </tr>\n",
       "    <tr>\n",
       "      <th>RESEARCH</th>\n",
       "      <td>0</td>\n",
       "    </tr>\n",
       "    <tr>\n",
       "      <th>SEMINAR</th>\n",
       "      <td>275</td>\n",
       "    </tr>\n",
       "    <tr>\n",
       "      <th>SPANISH LANGUAGE</th>\n",
       "      <td>6768</td>\n",
       "    </tr>\n",
       "    <tr>\n",
       "      <th>SPANISH LITERATURE</th>\n",
       "      <td>703</td>\n",
       "    </tr>\n",
       "    <tr>\n",
       "      <th>STATISTICS</th>\n",
       "      <td>555</td>\n",
       "    </tr>\n",
       "    <tr>\n",
       "      <th>STUDIO ART: DRAWING</th>\n",
       "      <td>23</td>\n",
       "    </tr>\n",
       "    <tr>\n",
       "      <th>STUDIO ART: 2-D DESIGN</th>\n",
       "      <td>272</td>\n",
       "    </tr>\n",
       "    <tr>\n",
       "      <th>STUDIO ART: 3-D DESIGN</th>\n",
       "      <td>14</td>\n",
       "    </tr>\n",
       "    <tr>\n",
       "      <th>U.S. HISTORY</th>\n",
       "      <td>3385</td>\n",
       "    </tr>\n",
       "  </tbody>\n",
       "</table>\n",
       "</div>"
      ],
      "text/plain": [
       "                                    Students (9th Grade)\n",
       "ART HISTORY                                          345\n",
       "BIOLOGY                                             3995\n",
       "CALCULUS AB                                          727\n",
       "CALCULUS BC                                          451\n",
       "CHEMISTRY                                            338\n",
       "CHINESE LANGUAGE & CULTURE                          1456\n",
       "COMPUTER SCIENCE A                                  1365\n",
       "MACROECONOMICS                                       557\n",
       "MICROECONOMICS                                       520\n",
       "ENGLISH LANGUAGE & COMPOSITION                       334\n",
       "ENGLISH LITERATURE & COMPOSITION                      95\n",
       "ENVIRONMENTAL SCIENCE                               5041\n",
       "EUROPEAN HISTORY                                    1157\n",
       "FRENCH LANGUAGE & CULTURE                            264\n",
       "GERMAN LANGUAGE & CULTURE                            100\n",
       "GOVERNMENT & POLITICS: COMPARATIVE                   103\n",
       "GOVERNMENT & POLITICS: U.S.                         8222\n",
       "HUMAN GEOGRAPHY                                   115711\n",
       "ITALIAN LANGUAGE & CULTURE                            56\n",
       "JAPANESE LANGUAGE & CULTURE                          187\n",
       "LATIN                                                 14\n",
       "MUSIC THEORY                                         289\n",
       "PHYSICS C: ELECTRICITY & MAGNETISM                    24\n",
       "PHYSICS C: MECHANICS                                  60\n",
       "PHYSICS 1                                           1790\n",
       "PHYSICS 2                                             59\n",
       "PSYCHOLOGY                                          1322\n",
       "RESEARCH                                               0\n",
       "SEMINAR                                              275\n",
       "SPANISH LANGUAGE                                    6768\n",
       "SPANISH LITERATURE                                   703\n",
       "STATISTICS                                           555\n",
       "STUDIO ART: DRAWING                                   23\n",
       "STUDIO ART: 2-D DESIGN                               272\n",
       "STUDIO ART: 3-D DESIGN                                14\n",
       "U.S. HISTORY                                        3385"
      ]
     },
     "execution_count": 4,
     "metadata": {},
     "output_type": "execute_result"
    }
   ],
   "source": [
    "StudentInfo"
   ]
  },
  {
   "cell_type": "markdown",
   "metadata": {},
   "source": [
    " 1) 所有课程的学生平均数是多少？"
   ]
  },
  {
   "cell_type": "code",
   "execution_count": 5,
   "metadata": {
    "collapsed": false
   },
   "outputs": [
    {
     "data": {
      "text/plain": [
       "Students (9th Grade)    4349.361111\n",
       "dtype: float64"
      ]
     },
     "execution_count": 5,
     "metadata": {},
     "output_type": "execute_result"
    }
   ],
   "source": [
    "StudentInfo.mean()"
   ]
  },
  {
   "cell_type": "markdown",
   "metadata": {},
   "source": [
    "<div align=\"right\">\n",
    "<a href=\"#mean\" class=\"btn btn-default\" data-toggle=\"collapse\">Click here for the solution</a>\n",
    "</div>\n",
    "\n",
    "<div id=\"mean\" class=\"collapse\">\n",
    "StudentInfo.mean()\n",
    "</div>"
   ]
  },
  {
   "cell_type": "markdown",
   "metadata": {},
   "source": [
    "2) 学生人数的中位数是多少？"
   ]
  },
  {
   "cell_type": "code",
   "execution_count": 6,
   "metadata": {
    "collapsed": false
   },
   "outputs": [
    {
     "data": {
      "text/plain": [
       "Students (9th Grade)    341.5\n",
       "dtype: float64"
      ]
     },
     "execution_count": 6,
     "metadata": {},
     "output_type": "execute_result"
    }
   ],
   "source": [
    "StudentInfo.median()"
   ]
  },
  {
   "cell_type": "markdown",
   "metadata": {},
   "source": [
    "<div align=\"right\">\n",
    "<a href=\"#median\" class=\"btn btn-default\" data-toggle=\"collapse\">Click here for the solution</a>\n",
    "</div>\n",
    "<div id=\"median\" class=\"collapse\">\n",
    "StudentInfo.median()\n",
    "</div>"
   ]
  },
  {
   "cell_type": "markdown",
   "metadata": {},
   "source": [
    "3) 为什么中位数和平均数相差大？"
   ]
  },
  {
   "cell_type": "code",
   "execution_count": null,
   "metadata": {
    "collapsed": true
   },
   "outputs": [],
   "source": [
    "有很多离群值，对平均数有一定影响"
   ]
  },
  {
   "cell_type": "markdown",
   "metadata": {},
   "source": [
    " <div align=\"right\">\n",
    "<a href=\"#q3\" class=\"btn btn-default\" data-toggle=\"collapse\">Click here for the solution</a>\n",
    "</div>\n",
    "<div id=\"q3\" class=\"collapse\">\n",
    " 平均数容易受离群值（边缘值）影响\n",
    "</div>"
   ]
  },
  {
   "cell_type": "markdown",
   "metadata": {},
   "source": [
    "4) 现在你还觉得应该保留所有课程么？"
   ]
  },
  {
   "cell_type": "code",
   "execution_count": null,
   "metadata": {
    "collapsed": true
   },
   "outputs": [],
   "source": [
    "不应该，平均数是4349，中位数是350，说明有一半的课程350人不到，有几门课程占据了大部分学生"
   ]
  },
  {
   "cell_type": "markdown",
   "metadata": {},
   "source": [
    "<div align=\"right\">\n",
    "<a href=\"#q4\" class=\"btn btn-default\" data-toggle=\"collapse\">Click here for the solution</a>\n",
    "</div>\n",
    "<div id=\"q4\" class=\"collapse\">\n",
    "不，中位数是350，但是平均是4349。这意味着一半课程都只有350不到的人，而少部分课程占了大量的学生。\n",
    "</div>"
   ]
  },
  {
   "cell_type": "markdown",
   "metadata": {},
   "source": [
    "5) 标准差是多少？"
   ]
  },
  {
   "cell_type": "code",
   "execution_count": 7,
   "metadata": {
    "collapsed": false
   },
   "outputs": [
    {
     "data": {
      "text/plain": [
       "Students (9th Grade)    19188.817443\n",
       "dtype: float64"
      ]
     },
     "execution_count": 7,
     "metadata": {},
     "output_type": "execute_result"
    }
   ],
   "source": [
    "StudentInfo.std()"
   ]
  },
  {
   "cell_type": "markdown",
   "metadata": {},
   "source": [
    "<div align=\"right\">\n",
    "<a href=\"#q6\" class=\"btn btn-default\" data-toggle=\"collapse\">Click here for the solution</a>\n",
    "</div>\n",
    "<div id=\"q6\" class=\"collapse\">\n",
    " StudentInfo.std()\n",
    "</div>"
   ]
  },
  {
   "cell_type": "markdown",
   "metadata": {},
   "source": [
    "6) 学生人数的最大值是多少？"
   ]
  },
  {
   "cell_type": "code",
   "execution_count": 8,
   "metadata": {
    "collapsed": false
   },
   "outputs": [
    {
     "data": {
      "text/plain": [
       "Students (9th Grade)    115711\n",
       "dtype: int64"
      ]
     },
     "execution_count": 8,
     "metadata": {},
     "output_type": "execute_result"
    }
   ],
   "source": [
    "StudentInfo.max()"
   ]
  },
  {
   "cell_type": "markdown",
   "metadata": {},
   "source": [
    "<div align=\"right\">\n",
    "<a href=\"#q7\" class=\"btn btn-default\" data-toggle=\"collapse\">Click here for the solution</a>\n",
    "</div>\n",
    "<div id=\"q7\" class=\"collapse\">\n",
    "StudentInfo.max()\n",
    "</div>"
   ]
  },
  {
   "cell_type": "markdown",
   "metadata": {},
   "source": [
    "7) 通过中位数和最大值解释为什么标准差如此巨大？"
   ]
  },
  {
   "cell_type": "markdown",
   "metadata": {},
   "source": [
    "<div align=\"right\">\n",
    "<a href=\"#q8\" class=\"btn btn-default\" data-toggle=\"collapse\">Click here for the solution</a>\n",
    "</div>\n",
    "<div id=\"q8\" class=\"collapse\">\n",
    "最大值远大于中位数\n",
    "</div>\n"
   ]
  },
  {
   "cell_type": "markdown",
   "metadata": {},
   "source": [
    "8) 使用直方图展示数据"
   ]
  },
  {
   "cell_type": "code",
   "execution_count": 9,
   "metadata": {
    "collapsed": false
   },
   "outputs": [
    {
     "data": {
      "text/plain": [
       "array([[<matplotlib.axes._subplots.AxesSubplot object at 0x7efc6060d4e0>]], dtype=object)"
      ]
     },
     "execution_count": 9,
     "metadata": {},
     "output_type": "execute_result"
    },
    {
     "data": {
      "image/png": "[encoded data removed]",
      "text/plain": [
       "<matplotlib.figure.Figure at 0x7efc608b4cc0>"
      ]
     },
     "metadata": {},
     "output_type": "display_data"
    }
   ],
   "source": [
    "StudentInfo.hist()"
   ]
  },
  {
   "cell_type": "markdown",
   "metadata": {},
   "source": [
    "<div align=\"right\">\n",
    "<a href=\"#q9\" class=\"btn btn-default\" data-toggle=\"collapse\">Click here for the solution</a>\n",
    "</div>\n",
    "<div id=\"q9\" class=\"collapse\">\n",
    "StudentInfo.hist()\n",
    "</div>\n"
   ]
  },
  {
   "cell_type": "markdown",
   "metadata": {},
   "source": [
    "学生人数最多的课程名是什么？"
   ]
  },
  {
   "cell_type": "code",
   "execution_count": 10,
   "metadata": {
    "collapsed": false
   },
   "outputs": [
    {
     "data": {
      "text/plain": [
       "Students (9th Grade)    HUMAN GEOGRAPHY\n",
       "dtype: object"
      ]
     },
     "execution_count": 10,
     "metadata": {},
     "output_type": "execute_result"
    }
   ],
   "source": [
    "StudentInfo.idxmax(axis=0)"
   ]
  },
  {
   "cell_type": "markdown",
   "metadata": {
    "collapsed": true
   },
   "source": [
    "9) 如果需要只想保留一门课，那是哪门课？ "
   ]
  },
  {
   "cell_type": "code",
   "execution_count": 12,
   "metadata": {
    "collapsed": false
   },
   "outputs": [
    {
     "data": {
      "text/plain": [
       "Students (9th Grade)    HUMAN GEOGRAPHY\n",
       "dtype: object"
      ]
     },
     "execution_count": 12,
     "metadata": {},
     "output_type": "execute_result"
    }
   ],
   "source": [
    "StudentInfo.idxmax(axis=0)"
   ]
  },
  {
   "cell_type": "markdown",
   "metadata": {},
   "source": [
    "<div align=\"right\">\n",
    "<a href=\"#q11\" class=\"btn btn-default\" data-toggle=\"collapse\">Click here for the solution</a>\n",
    "</div>\n",
    "<div id=\"q11\" class=\"collapse\">\n",
    "HUMAN GEOGRAPHY\n",
    "</div>\n"
   ]
  }
 ],
 "metadata": {
  "anaconda-cloud": {},
  "kernelspec": {
   "display_name": "Python [default]",
   "language": "python",
   "name": "python3"
  },
  "language_info": {
   "codemirror_mode": {
    "name": "ipython",
    "version": 3
   },
   "file_extension": ".py",
   "mimetype": "text/x-python",
   "name": "python",
   "nbconvert_exporter": "python",
   "pygments_lexer": "ipython3",
   "version": "3.5.2"
  }
 },
 "nbformat": 4,
 "nbformat_minor": 2
}
