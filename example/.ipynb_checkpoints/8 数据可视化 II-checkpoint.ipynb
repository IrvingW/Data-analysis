{
 "cells": [
  {
   "cell_type": "markdown",
   "metadata": {},
   "source": [
    "<h1, align=center> &nbsp;&nbsp;&nbsp;&nbsp;&nbsp;&nbsp;&nbsp;数据科学引论 - Python之道 </h1>\n",
    "\n",
    "<h1, align=center> &nbsp;&nbsp;&nbsp;&nbsp;&nbsp;&nbsp;&nbsp;&nbsp;第8课 数据可视化 II - 中国的天气数据</h1>"
   ]
  },
  {
   "cell_type": "markdown",
   "metadata": {},
   "source": [
    "气候变化是一个世界难题。在这个练习中，我们将关注中国的2004年至2015年的天气数据。"
   ]
  },
  {
   "cell_type": "markdown",
   "metadata": {},
   "source": [
    "# 一: Python中的地图\n"
   ]
  },
  {
   "cell_type": "markdown",
   "metadata": {},
   "source": [
    "## Python中的绘图库"
   ]
  },
  {
   "cell_type": "markdown",
   "metadata": {},
   "source": [
    "[Basemap](http://matplotlib.org/basemap/) 是一个十分流行的python包，基于matplotlib实现，具体文档可参考 [here](http://matplotlib.org/basemap/)."
   ]
  },
  {
   "cell_type": "code",
   "execution_count": null,
   "metadata": {
    "collapsed": false
   },
   "outputs": [],
   "source": [
    "# 第一次运行如出现错误No module named 'mpl_toolkits.basemap'，需要安装basemap，不过这个库在windwos 64位下不能直接通过conda命令安装，需要自行下载离线安装\n",
    "# 下载通过连接 http://www.lfd.uci.edu/~gohlke/pythonlibs/下载两个文件pyproj‑1.9.5.1‑cp35‑cp35m‑win_amd64.whl 和  basemap‑1.1.0‑cp35‑cp35m‑win_amd64.whl\n",
    "# 安装以管理员权限在命令行中进入下载的目录，然后输入\n",
    "# \"pip install pyproj‑1.9.5.1‑cp35‑cp35m‑win_amd64.whl\" 和 \"pip install basemap‑1.1.0‑cp35‑cp35m‑win_amd64.whl\" 完成库的安装\n",
    "from mpl_toolkits.basemap import Basemap\n",
    "import matplotlib.pyplot as plt\n",
    "%matplotlib inline\n",
    "\n",
    "#increase figure size\n",
    "from pylab import rcParams\n",
    "rcParams['figure.figsize'] = (14,10)"
   ]
  },
  {
   "cell_type": "markdown",
   "metadata": {},
   "source": [
    "### 世界地图"
   ]
  },
  {
   "cell_type": "code",
   "execution_count": null,
   "metadata": {
    "collapsed": false
   },
   "outputs": [],
   "source": [
    "Basemap().shadedrelief()"
   ]
  },
  {
   "cell_type": "code",
   "execution_count": null,
   "metadata": {
    "collapsed": false
   },
   "outputs": [],
   "source": [
    "Basemap().bluemarble()"
   ]
  },
  {
   "cell_type": "markdown",
   "metadata": {},
   "source": [
    "### 绘制一个区域"
   ]
  },
  {
   "cell_type": "code",
   "execution_count": null,
   "metadata": {
    "collapsed": false
   },
   "outputs": [],
   "source": [
    "my_map = Basemap(\n",
    "            llcrnrlon=70, llcrnrlat=5, #min longitude (llcrnrlon) and latitude (llcrnrlat)\n",
    "            urcrnrlon=140, urcrnrlat=50) #max longitude (urcrnrlon) and latitude (urcrnrlat)\n",
    "my_map.shadedrelief()"
   ]
  },
  {
   "cell_type": "markdown",
   "metadata": {},
   "source": [
    "### 画出一个位置（经度、纬度）"
   ]
  },
  {
   "cell_type": "markdown",
   "metadata": {},
   "source": [
    "让我们绘制北京!\n",
    "\n",
    "(39.9042° N, 116.4074° E)\n",
    "\n",
    "纬度: 39.9042  \n",
    "经度: 116.4074"
   ]
  },
  {
   "cell_type": "code",
   "execution_count": null,
   "metadata": {
    "collapsed": false,
    "scrolled": false
   },
   "outputs": [],
   "source": [
    "#Beijing\n",
    "lat = 39.9042\n",
    "lon = 116.4074\n",
    "\n",
    "my_map.plot(lon, \n",
    "            lat,\n",
    "            markerfacecolor = 'red', \n",
    "            marker='o', \n",
    "            markersize= 10, \n",
    "            alpha = 0.75)\n",
    "my_map.shadedrelief()"
   ]
  },
  {
   "cell_type": "markdown",
   "metadata": {},
   "source": [
    "### 尝试画出上海!\n",
    "你能自己得到上海的经度和纬度吗？"
   ]
  },
  {
   "cell_type": "code",
   "execution_count": null,
   "metadata": {
    "collapsed": false
   },
   "outputs": [],
   "source": [
    "#Shanghai\n",
    "lat = 31.9042\n",
    "lon = 121.4737\n",
    "\n",
    "my_map.plot(lon, \n",
    "            lat,\n",
    "            markerfacecolor = 'blue',  #blue, green, or even (R,G,B)\n",
    "            marker='o', \n",
    "            markersize= 10*2, \n",
    "            alpha = 0.75)\n",
    "\n",
    "#Beijing\n",
    "lat = 39.9042\n",
    "lon = 116.4074\n",
    "my_map.plot(lon, \n",
    "            lat,\n",
    "            markerfacecolor = 'red', \n",
    "            marker='o', \n",
    "            markersize= 10, \n",
    "            alpha = 0.75)\n",
    "\n",
    "my_map.shadedrelief()"
   ]
  },
  {
   "cell_type": "markdown",
   "metadata": {},
   "source": [
    "### 绘制文本"
   ]
  },
  {
   "cell_type": "code",
   "execution_count": null,
   "metadata": {
    "collapsed": false
   },
   "outputs": [],
   "source": [
    "#Shanghai\n",
    "lat = 31.9042\n",
    "lon = 121.4737\n",
    "name = \"Shanghai\"\n",
    "\n",
    "my_map.plot(lon, \n",
    "            lat,\n",
    "            markerfacecolor = 'blue',  #blue, green, or even (R,G,B)\n",
    "            marker='o', \n",
    "            markersize= 10*2, \n",
    "            alpha = 0.75)\n",
    "\n",
    "plt.text(lon, lat, name,\n",
    "             size = 10, \n",
    "             color = \"black\")\n",
    "\n",
    "\n",
    "#Beijing\n",
    "lat = 39.9042\n",
    "lon = 116.4074\n",
    "name = \"Beijing\"\n",
    "\n",
    "my_map.plot(lon, \n",
    "            lat,\n",
    "            markerfacecolor = 'red', \n",
    "            marker='o', \n",
    "            markersize= 10, \n",
    "            alpha = 0.75)\n",
    "\n",
    "plt.text(lon, lat, name,\n",
    "             size = 10, \n",
    "             color = \"black\")\n",
    "\n",
    "my_map.shadedrelief()"
   ]
  },
  {
   "cell_type": "markdown",
   "metadata": {},
   "source": [
    "### 在数据中循环"
   ]
  },
  {
   "cell_type": "markdown",
   "metadata": {},
   "source": [
    "### Python zip方法介绍"
   ]
  },
  {
   "cell_type": "code",
   "execution_count": null,
   "metadata": {
    "collapsed": false
   },
   "outputs": [],
   "source": [
    "name_list = [\"Shanghai\", \"Beijing\"]\n",
    "lat_list = [31.9042, 39.9042]\n",
    "lon_list = [121.4737, 116.4074]\n",
    "\n",
    "for (lat, lon, name) in zip(lat_list, lon_list, name_list):\n",
    "    print (lat,lon,name)"
   ]
  },
  {
   "cell_type": "code",
   "execution_count": null,
   "metadata": {
    "collapsed": false
   },
   "outputs": [],
   "source": [
    "name_list = [\"Shanghai\", \"Beijing\"]\n",
    "lat_list = [31.9042, 39.9042]\n",
    "lon_list = [121.4737, 116.4074]\n",
    "\n",
    "\n",
    "for (lat, lon, name) in zip(lat_list, lon_list, name_list):\n",
    "    print (lat,lon,name)\n",
    "    \n",
    "    my_map.plot(lon, \n",
    "                lat,\n",
    "                markerfacecolor = 'red', \n",
    "                marker='o', \n",
    "                markersize= 10, \n",
    "                alpha = 0.75)\n",
    "    \n",
    "    plt.text(lon, lat, name,\n",
    "             size = 10, \n",
    "             color = \"black\")\n",
    "    \n",
    "    \n",
    "#add title\n",
    "plt.title(\"Beijing and Shanghai\", fontsize = 20)\n",
    "\n",
    "my_map.shadedrelief()"
   ]
  },
  {
   "cell_type": "markdown",
   "metadata": {},
   "source": [
    "# 二: 根据中国的天气数据进行绘制"
   ]
  },
  {
   "cell_type": "markdown",
   "metadata": {},
   "source": [
    "## 数据源\n",
    "\n",
    "数据可以从[国家海洋和大气治理署](http://www.ncdc.noaa.gov/data-access/quick-links)获取."
   ]
  },
  {
   "cell_type": "markdown",
   "metadata": {},
   "source": [
    "## 了解气候数据\n",
    "\n",
    "我们有中国2005年至2015年的31个气象站的数据\n",
    "\n",
    "这里有两个数据文件：`data_weather.csv` 包含每个气象站(**`ID`**)提供的水和温度数据。`stations.csv`包含了每个气象站的信息.\n",
    "\n",
    "### `data_weather.csv`:\n",
    "它包含了从2005年到2015年中国31个气象站的日常测量数据。\n",
    "\n",
    "- **ID**: 站点识别码. \n",
    "- **YEAR**: 观测年份 (YYYY)\n",
    "- **MONTH**: 观测月份 (MM)\n",
    "- **DAY**: 观测日 (DD)\n",
    "- **ELEMENT**: 元素类型.一共分四种:\n",
    "    - _PRCP_: 降水 (毫米mm)\n",
    "    - _TAVG_: 平均温度 (摄氏度Celsius)\n",
    "    - _TMIN_: 最低温度 (摄氏度Celsius)\n",
    "    - _TMAX_: 最高问题 (摄氏度Celsius)\n",
    "- **VALUE**: 上述测量元素的值\n",
    "\n",
    "<hr>\n",
    "\n",
    "### `stations.csv`:\n",
    "站点信息包括\n",
    "- **ID**: 站点识别码.\n",
    "- **LATITUDE**: 站点纬度 \n",
    "- **LONGITUDE**: 站点经度\n",
    "- **ELEVATION**: 站点海拔 (单位米)\n",
    "- **NAME**: 站点名"
   ]
  },
  {
   "cell_type": "markdown",
   "metadata": {},
   "source": [
    "### 获得数据"
   ]
  },
  {
   "cell_type": "code",
   "execution_count": null,
   "metadata": {
    "collapsed": false
   },
   "outputs": [],
   "source": [
    "#data_weather.csv\n",
    "#linux !wget --output-document /resources/data/data_weather.csv https://ibm.box.com/shared/static/4rfdrprk3nvj6dv2fro8n69fz9gn9for.csv\n",
    "#自行下载\n",
    "#stations.csv\n",
    "#linux !wget --output-document /resources/data/stations.csv https://ibm.box.com/shared/static/tj32mnhv9pdurypep6usrz6ygjoqesf2.csv\n",
    "#自行下载"
   ]
  },
  {
   "cell_type": "markdown",
   "metadata": {},
   "source": [
    "### 载入依赖库"
   ]
  },
  {
   "cell_type": "markdown",
   "metadata": {},
   "source": [
    "如果你跳过了第一部分，记得再次载入库："
   ]
  },
  {
   "cell_type": "code",
   "execution_count": null,
   "metadata": {
    "collapsed": true
   },
   "outputs": [],
   "source": [
    "import pandas as pd\n",
    "from mpl_toolkits.basemap import Basemap\n",
    "import matplotlib.pyplot as plt\n",
    "%matplotlib inline\n",
    "\n",
    "#increase figure size\n",
    "from pylab import rcParams\n",
    "rcParams['figure.figsize'] = (14,10)"
   ]
  },
  {
   "cell_type": "markdown",
   "metadata": {},
   "source": [
    "### 加载 data_weather.csv"
   ]
  },
  {
   "cell_type": "code",
   "execution_count": null,
   "metadata": {
    "collapsed": false
   },
   "outputs": [],
   "source": [
    "#python2 df = pd.read_csv(\"/resources/data/data_weather.csv\")\n",
    "df = pd.read_csv(\"resources/data/data_weather.csv\")\n",
    "df.head(10)"
   ]
  },
  {
   "cell_type": "markdown",
   "metadata": {},
   "source": [
    "### 加载 stations.csv"
   ]
  },
  {
   "cell_type": "code",
   "execution_count": null,
   "metadata": {
    "collapsed": false
   },
   "outputs": [],
   "source": [
    "#python2 stations = pd.read_csv(\"/resources/data/stations.csv\n",
    "stations = pd.read_csv(\"resources/data/stations.csv\")\n",
    "stations.head(10)"
   ]
  },
  {
   "cell_type": "markdown",
   "metadata": {},
   "source": [
    "### 合并 `df` 和 `stations`"
   ]
  },
  {
   "cell_type": "markdown",
   "metadata": {},
   "source": [
    "凭借列`ID`将两个数据集合并"
   ]
  },
  {
   "cell_type": "code",
   "execution_count": null,
   "metadata": {
    "collapsed": false
   },
   "outputs": [],
   "source": [
    "df = pd.merge(df, stations, on='ID', how='left')\n",
    "df.head()"
   ]
  },
  {
   "cell_type": "markdown",
   "metadata": {},
   "source": [
    "###  每个站点2015年的测得的平均降雨量是多少？"
   ]
  },
  {
   "cell_type": "code",
   "execution_count": null,
   "metadata": {
    "collapsed": false
   },
   "outputs": [],
   "source": [
    "df2015rain = df[(df.YEAR==2015) & (df.ELEMENT==\"PRCP\")].groupby(\"NAME\").mean()\n",
    "df2015rain.head(2)"
   ]
  },
  {
   "cell_type": "markdown",
   "metadata": {},
   "source": [
    "我们发现NAME列不见了，因为它是做分组时候的索引，我们需要将索引名还原就能得到NAME。"
   ]
  },
  {
   "cell_type": "code",
   "execution_count": null,
   "metadata": {
    "collapsed": false
   },
   "outputs": [],
   "source": [
    "df2015rain = df2015rain.reset_index(1)\n",
    "df2015rain.head(2)"
   ]
  },
  {
   "cell_type": "markdown",
   "metadata": {},
   "source": [
    "### 绘制"
   ]
  },
  {
   "cell_type": "code",
   "execution_count": null,
   "metadata": {
    "collapsed": false
   },
   "outputs": [],
   "source": [
    "lon_list = df2015rain.LONGITUDE.values\n",
    "lat_list = df2015rain.LATITUDE.values\n",
    "name_list = df2015rain.NAME.values\n",
    "val_list = df2015rain.VALUE.values"
   ]
  },
  {
   "cell_type": "code",
   "execution_count": null,
   "metadata": {
    "collapsed": false
   },
   "outputs": [],
   "source": [
    "for (lat, lon, name, val) in zip(lat_list, lon_list, name_list, val_list):\n",
    "    print (lat,lon,name,val*10)\n",
    "    \n",
    "    my_map.plot(lon, \n",
    "                lat,\n",
    "                markerfacecolor = 'red', \n",
    "                marker='o', \n",
    "                markersize= (3 * val), \n",
    "                alpha = 0.75)\n",
    "    \n",
    "    plt.text(lon, lat, name,\n",
    "             size = 10, \n",
    "             color = \"black\")\n",
    "    \n",
    "    \n",
    "#add title\n",
    "plt.title(\"Average Precipitation in 2015\", fontsize = 20)\n",
    "\n",
    "my_map.shadedrelief()"
   ]
  },
  {
   "cell_type": "markdown",
   "metadata": {},
   "source": [
    "### 自定义颜色和文本大小"
   ]
  },
  {
   "cell_type": "code",
   "execution_count": null,
   "metadata": {
    "collapsed": false
   },
   "outputs": [],
   "source": [
    "maxval = max(val_list)\n",
    "\n",
    "for (lat, lon, name, val) in zip(lat_list, lon_list, name_list, val_list):\n",
    "    #print (lat,lon,name,val*10)\n",
    "    \n",
    "    my_map.plot(lon, \n",
    "                lat,\n",
    "                markerfacecolor = (val/maxval,0,0), \n",
    "                marker='o', \n",
    "                markersize= (3 * val), \n",
    "                alpha = 0.75)\n",
    "    \n",
    "    plt.text(lon, lat, name,\n",
    "             size = val, \n",
    "             color = \"black\")\n",
    "    \n",
    "    \n",
    "#add title\n",
    "plt.title(\"Average Precipitation in 2015\", fontsize = 20)\n",
    "\n",
    "my_map.shadedrelief()"
   ]
  },
  {
   "cell_type": "code",
   "execution_count": null,
   "metadata": {
    "collapsed": true
   },
   "outputs": [],
   "source": []
  }
 ],
 "metadata": {
  "anaconda-cloud": {},
  "kernelspec": {
   "display_name": "Python [default]",
   "language": "python",
   "name": "python3"
  },
  "language_info": {
   "codemirror_mode": {
    "name": "ipython",
    "version": 3
   },
   "file_extension": ".py",
   "mimetype": "text/x-python",
   "name": "python",
   "nbconvert_exporter": "python",
   "pygments_lexer": "ipython3",
   "version": "3.5.2"
  }
 },
 "nbformat": 4,
 "nbformat_minor": 0
}
