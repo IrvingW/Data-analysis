{
 "cells": [
  {
   "cell_type": "markdown",
   "metadata": {
    "button": false,
    "deletable": true,
    "run_control": {
     "read_only": false
    }
   },
   "source": [
    "<h1, align=center> &nbsp;&nbsp;&nbsp;&nbsp;&nbsp;&nbsp;&nbsp;数据科学引论 - Python之道 </h1>\n",
    "\n",
    "<h1, align=center> &nbsp;&nbsp;&nbsp;&nbsp;&nbsp;&nbsp;&nbsp;&nbsp;第9课 机器学习</h1>\n",
    "# <center>回归分析</center>\n",
    "\n",
    "\n",
    "预测与类分类类似，但是模型适合连续的/数值的/有序的值预测。\n",
    "\n",
    "#### 关于本笔记\n",
    "在这个笔记本中，我们下载了一个数据集，它与汽车的燃料消耗和二氧化碳排放有关。然后，我们将数据分解为训练和测试集，使用训练集创建模型，使用测试集评估模型，然后使用测试集验证模型。最后使用模型进行预测。\n"
   ]
  },
  {
   "cell_type": "markdown",
   "metadata": {
    "button": false,
    "deletable": true,
    "run_control": {
     "read_only": false
    }
   },
   "source": [
    "### 加载所需库\n",
    "\n",
    "statsmomodels是一个Python模块，它允许用户查看数据、预测统计模型和执行测试。\n"
   ]
  },
  {
   "cell_type": "code",
   "execution_count": 1,
   "metadata": {
    "button": false,
    "collapsed": false,
    "deletable": true,
    "run_control": {
     "read_only": false
    }
   },
   "outputs": [],
   "source": [
    "import matplotlib.pyplot as plt\n",
    "import pandas as pd\n",
    "import pylab as pl\n",
    "import numpy as np\n",
    "%matplotlib inline"
   ]
  },
  {
   "cell_type": "markdown",
   "metadata": {
    "button": false,
    "deletable": true,
    "run_control": {
     "read_only": false
    }
   },
   "source": [
    "### 下载数据"
   ]
  },
  {
   "cell_type": "code",
   "execution_count": 3,
   "metadata": {
    "button": false,
    "collapsed": false,
    "deletable": true,
    "run_control": {
     "read_only": false
    }
   },
   "outputs": [
    {
     "name": "stdout",
     "output_type": "stream",
     "text": [
      "--2017-12-06 19:08:21--  https://ibm.box.com/shared/static/ez95yurarnp0q31l9jl1ma51mh6qtxj2.csv\n",
      "正在解析主机 ibm.box.com (ibm.box.com)... 107.152.25.197\n",
      "正在连接 ibm.box.com (ibm.box.com)|107.152.25.197|:443... 已连接。\n",
      "已发出 HTTP 请求，正在等待回应... 301 Moved Permanently\n",
      "位置：https://ibm.ent.box.com/shared/static/ez95yurarnp0q31l9jl1ma51mh6qtxj2.csv [跟随至新的 URL]\n",
      "--2017-12-06 19:08:23--  https://ibm.ent.box.com/shared/static/ez95yurarnp0q31l9jl1ma51mh6qtxj2.csv\n",
      "正在解析主机 ibm.ent.box.com (ibm.ent.box.com)... 107.152.24.211\n",
      "正在连接 ibm.ent.box.com (ibm.ent.box.com)|107.152.24.211|:443... 已连接。\n",
      "已发出 HTTP 请求，正在等待回应... 302 Found\n",
      "位置：https://public.boxcloud.com/d/1/fBGwrvnXeakJvp0ELVdjFH_rAvGodfqAhBCV1sxkx49wNKNnVSApvkp0DaB79sRgwn5haA9yOfFoUgGXSfOQ6N_6jcuTzunqfUrPTB9bddhY_gD8Yzu1QeO5rFp0w0rTDpBy825x56Do1L0GhvRBkHFA_np2WuRRu7nl9JcvTGzDHipYiBAUFxhxOFVRiF37UxRGK87lPXFMrfz8qUhsW6l42q5M4oa3JOb5GmKjIjegUkAvrb2nJnEMDEt7kABPcx6a_CbA_3JwcYBwx_0Uv8p4kguRa9Q9viQQMYljwIeg1WLzf_8OHN8Mncenin6LJC1o1RDWB2mLqHBmfQD7kOu3ON9cSAE4bhHVNCQs9RxlQ_37DU2qgsMhrieHLqIWrWMe3lMwsEQsRGvaGdze10gGh_b7T2qE9Qr-yuImlTDRHiVymR1cAh1hLb6hM9vAwFJoGeTU5nCRbaIZZ0_HQHkF0DMsIMIGzOUJv77HT90pYM98ckmBVYvYxbtN-kC018NdwDk3GiqH1fAJ0v0X3Gqh_KbL_4KJH9CK8ME9ZEEsR35EDylJciz_sBIuaclqQASAv-j4rPAq38L1BSSokF_NYEAGSZjoyycIBM17vxrdVb5UyWjdWKKQ-9Cj8ldZbcqDNRJTB5XLUVeUFC9cVfmI2WJiVJodW9XgvmkDl8hPOz2d9HYs5HoofdUykPx1KhKvKeJpoupL7jOlM6WCpJh_9XjV7BKZwaAuYRirUk2UF-3SDiiUUn2PJnUjqLEQnngmwpNv5YliPmTrAXZZ35ciZJoZgc9SziVywvnAjvYdtzNC_Y-rDLyR7OmDVD1Y1ftMzfgrMuhEVJRUOhzO7nKebAw-9tU4Kgh8hKWauZ9vRsvVv5eG4kz2N6AH9693pT0tEb6GWkvoOe-MjWTkonCAg2Ya5qeHL6d0wGw2cuczPToq1OVU4UQlkGgyTBlLsi418pHb3NOMzdthZarR4sntm9IiNIVCdaLJyNUa9Ygpl4xGONwgSu2h3nP_N1f5ZYKu7a6gwWUqgiOqZfr59Rz_5OGMlxI7rADR1iOvdy4h8lsSyjMkgErtcuUzQ5mqCYzdL6kyNKStnMXYXqTBZdzwoBf-7jXhe-XDT3myWwldjfl6gzSCF-fwl4uDZYvhZruIphlJQoYV0DMRSEyltgAP-WIWSH3GcL-zN6DImpHtibou46GRhtC-yLQjLR9ahcEst6UhwPJhMrVVkWzTBWYThpxuewgrK-a3o8mN7rNwbl91QVaN2GYwwGDmzQ1gLuzr02L3OLAPLD3KEA../download [跟随至新的 URL]\n",
      "--2017-12-06 19:08:25--  https://public.boxcloud.com/d/1/fBGwrvnXeakJvp0ELVdjFH_rAvGodfqAhBCV1sxkx49wNKNnVSApvkp0DaB79sRgwn5haA9yOfFoUgGXSfOQ6N_6jcuTzunqfUrPTB9bddhY_gD8Yzu1QeO5rFp0w0rTDpBy825x56Do1L0GhvRBkHFA_np2WuRRu7nl9JcvTGzDHipYiBAUFxhxOFVRiF37UxRGK87lPXFMrfz8qUhsW6l42q5M4oa3JOb5GmKjIjegUkAvrb2nJnEMDEt7kABPcx6a_CbA_3JwcYBwx_0Uv8p4kguRa9Q9viQQMYljwIeg1WLzf_8OHN8Mncenin6LJC1o1RDWB2mLqHBmfQD7kOu3ON9cSAE4bhHVNCQs9RxlQ_37DU2qgsMhrieHLqIWrWMe3lMwsEQsRGvaGdze10gGh_b7T2qE9Qr-yuImlTDRHiVymR1cAh1hLb6hM9vAwFJoGeTU5nCRbaIZZ0_HQHkF0DMsIMIGzOUJv77HT90pYM98ckmBVYvYxbtN-kC018NdwDk3GiqH1fAJ0v0X3Gqh_KbL_4KJH9CK8ME9ZEEsR35EDylJciz_sBIuaclqQASAv-j4rPAq38L1BSSokF_NYEAGSZjoyycIBM17vxrdVb5UyWjdWKKQ-9Cj8ldZbcqDNRJTB5XLUVeUFC9cVfmI2WJiVJodW9XgvmkDl8hPOz2d9HYs5HoofdUykPx1KhKvKeJpoupL7jOlM6WCpJh_9XjV7BKZwaAuYRirUk2UF-3SDiiUUn2PJnUjqLEQnngmwpNv5YliPmTrAXZZ35ciZJoZgc9SziVywvnAjvYdtzNC_Y-rDLyR7OmDVD1Y1ftMzfgrMuhEVJRUOhzO7nKebAw-9tU4Kgh8hKWauZ9vRsvVv5eG4kz2N6AH9693pT0tEb6GWkvoOe-MjWTkonCAg2Ya5qeHL6d0wGw2cuczPToq1OVU4UQlkGgyTBlLsi418pHb3NOMzdthZarR4sntm9IiNIVCdaLJyNUa9Ygpl4xGONwgSu2h3nP_N1f5ZYKu7a6gwWUqgiOqZfr59Rz_5OGMlxI7rADR1iOvdy4h8lsSyjMkgErtcuUzQ5mqCYzdL6kyNKStnMXYXqTBZdzwoBf-7jXhe-XDT3myWwldjfl6gzSCF-fwl4uDZYvhZruIphlJQoYV0DMRSEyltgAP-WIWSH3GcL-zN6DImpHtibou46GRhtC-yLQjLR9ahcEst6UhwPJhMrVVkWzTBWYThpxuewgrK-a3o8mN7rNwbl91QVaN2GYwwGDmzQ1gLuzr02L3OLAPLD3KEA../download\n",
      "正在解析主机 public.boxcloud.com (public.boxcloud.com)... 107.152.24.200\n",
      "正在连接 public.boxcloud.com (public.boxcloud.com)|107.152.24.200|:443... 已连接。\n",
      "已发出 HTTP 请求，正在等待回应... 200 OK\n",
      "长度： 72629 (71K) [text/csv]\n",
      "正在保存至: “../data/FuelConsumption.csv”\n",
      "\n",
      "../data/FuelConsump 100%[===================>]  70.93K  72.5KB/s    in 1.0s    \n",
      "\n",
      "2017-12-06 19:08:30 (72.5 KB/s) - 已保存 “../data/FuelConsumption.csv” [72629/72629])\n",
      "\n"
     ]
    }
   ],
   "source": [
    " !wget -O ../data/FuelConsumption.csv https://ibm.box.com/shared/static/ez95yurarnp0q31l9jl1ma51mh6qtxj2.csv"
   ]
  },
  {
   "cell_type": "markdown",
   "metadata": {
    "button": false,
    "deletable": true,
    "run_control": {
     "read_only": false
    }
   },
   "source": [
    "\n",
    "## 了解数据\n",
    "\n",
    "### `FuelConsumptionCo2.csv`:\n",
    "我们下载了一个燃料消耗的数据集，包括了特定车型的燃油消耗率，以及在加拿大零售销售的新轻型车辆的二氧化碳排放量。 [数据源](http://open.canada.ca/data/en/dataset/98f1a129-f628-4ce4-b24d-6f16bf24dd64)\n",
    "\n",
    "- **MODELYEAR** 年份 e.g. 2014\n",
    "- **MAKE**  制造商 e.g. Acura\n",
    "- **MODEL** 车型 e.g. ILX\n",
    "- **VEHICLE CLASS** 车类 e.g. SUV\n",
    "- **ENGINE SIZE** 发动机大小 e.g. 4.7\n",
    "- **CYLINDERS** 汽缸 e.g 6\n",
    "- **TRANSMISSION** 变速器 e.g. A6\n",
    "- **FUEL CONSUMPTION in CITY(L/100 km)** 城市道路百公里油耗 e.g. 9.9\n",
    "- **FUEL CONSUMPTION in HWY (L/100 km)** 告诉公路百公里油耗 e.g. 8.9\n",
    "- **FUEL CONSUMPTION COMB (L/100 km)** 综合路况百公里油耗 e.g. 9.2\n",
    "- **CO2 EMISSIONS (g/km)**二氧化碳排放 e.g. 182  \n"
   ]
  },
  {
   "cell_type": "markdown",
   "metadata": {
    "button": false,
    "deletable": true,
    "run_control": {
     "read_only": false
    }
   },
   "source": [
    "## 读取数据"
   ]
  },
  {
   "cell_type": "code",
   "execution_count": 3,
   "metadata": {
    "button": false,
    "collapsed": false,
    "deletable": true,
    "run_control": {
     "read_only": false
    }
   },
   "outputs": [
    {
     "data": {
      "text/html": [
       "<div>\n",
       "<table border=\"1\" class=\"dataframe\">\n",
       "  <thead>\n",
       "    <tr style=\"text-align: right;\">\n",
       "      <th></th>\n",
       "      <th>MODELYEAR</th>\n",
       "      <th>MAKE</th>\n",
       "      <th>MODEL</th>\n",
       "      <th>VEHICLECLASS</th>\n",
       "      <th>ENGINESIZE</th>\n",
       "      <th>CYLINDERS</th>\n",
       "      <th>TRANSMISSION</th>\n",
       "      <th>FUELTYPE</th>\n",
       "      <th>FUELCONSUMPTION_CITY</th>\n",
       "      <th>FUELCONSUMPTION_HWY</th>\n",
       "      <th>FUELCONSUMPTION_COMB</th>\n",
       "      <th>FUELCONSUMPTION_COMB_MPG</th>\n",
       "      <th>CO2EMISSIONS</th>\n",
       "    </tr>\n",
       "  </thead>\n",
       "  <tbody>\n",
       "    <tr>\n",
       "      <th>0</th>\n",
       "      <td>2014</td>\n",
       "      <td>ACURA</td>\n",
       "      <td>ILX</td>\n",
       "      <td>COMPACT</td>\n",
       "      <td>2.0</td>\n",
       "      <td>4</td>\n",
       "      <td>AS5</td>\n",
       "      <td>Z</td>\n",
       "      <td>9.9</td>\n",
       "      <td>6.7</td>\n",
       "      <td>8.5</td>\n",
       "      <td>33</td>\n",
       "      <td>196</td>\n",
       "    </tr>\n",
       "    <tr>\n",
       "      <th>1</th>\n",
       "      <td>2014</td>\n",
       "      <td>ACURA</td>\n",
       "      <td>ILX</td>\n",
       "      <td>COMPACT</td>\n",
       "      <td>2.4</td>\n",
       "      <td>4</td>\n",
       "      <td>M6</td>\n",
       "      <td>Z</td>\n",
       "      <td>11.2</td>\n",
       "      <td>7.7</td>\n",
       "      <td>9.6</td>\n",
       "      <td>29</td>\n",
       "      <td>221</td>\n",
       "    </tr>\n",
       "    <tr>\n",
       "      <th>2</th>\n",
       "      <td>2014</td>\n",
       "      <td>ACURA</td>\n",
       "      <td>ILX HYBRID</td>\n",
       "      <td>COMPACT</td>\n",
       "      <td>1.5</td>\n",
       "      <td>4</td>\n",
       "      <td>AV7</td>\n",
       "      <td>Z</td>\n",
       "      <td>6.0</td>\n",
       "      <td>5.8</td>\n",
       "      <td>5.9</td>\n",
       "      <td>48</td>\n",
       "      <td>136</td>\n",
       "    </tr>\n",
       "    <tr>\n",
       "      <th>3</th>\n",
       "      <td>2014</td>\n",
       "      <td>ACURA</td>\n",
       "      <td>MDX 4WD</td>\n",
       "      <td>SUV - SMALL</td>\n",
       "      <td>3.5</td>\n",
       "      <td>6</td>\n",
       "      <td>AS6</td>\n",
       "      <td>Z</td>\n",
       "      <td>12.7</td>\n",
       "      <td>9.1</td>\n",
       "      <td>11.1</td>\n",
       "      <td>25</td>\n",
       "      <td>255</td>\n",
       "    </tr>\n",
       "    <tr>\n",
       "      <th>4</th>\n",
       "      <td>2014</td>\n",
       "      <td>ACURA</td>\n",
       "      <td>RDX AWD</td>\n",
       "      <td>SUV - SMALL</td>\n",
       "      <td>3.5</td>\n",
       "      <td>6</td>\n",
       "      <td>AS6</td>\n",
       "      <td>Z</td>\n",
       "      <td>12.1</td>\n",
       "      <td>8.7</td>\n",
       "      <td>10.6</td>\n",
       "      <td>27</td>\n",
       "      <td>244</td>\n",
       "    </tr>\n",
       "  </tbody>\n",
       "</table>\n",
       "</div>"
      ],
      "text/plain": [
       "   MODELYEAR   MAKE       MODEL VEHICLECLASS  ENGINESIZE  CYLINDERS  \\\n",
       "0       2014  ACURA         ILX      COMPACT         2.0          4   \n",
       "1       2014  ACURA         ILX      COMPACT         2.4          4   \n",
       "2       2014  ACURA  ILX HYBRID      COMPACT         1.5          4   \n",
       "3       2014  ACURA     MDX 4WD  SUV - SMALL         3.5          6   \n",
       "4       2014  ACURA     RDX AWD  SUV - SMALL         3.5          6   \n",
       "\n",
       "  TRANSMISSION FUELTYPE  FUELCONSUMPTION_CITY  FUELCONSUMPTION_HWY  \\\n",
       "0          AS5        Z                   9.9                  6.7   \n",
       "1           M6        Z                  11.2                  7.7   \n",
       "2          AV7        Z                   6.0                  5.8   \n",
       "3          AS6        Z                  12.7                  9.1   \n",
       "4          AS6        Z                  12.1                  8.7   \n",
       "\n",
       "   FUELCONSUMPTION_COMB  FUELCONSUMPTION_COMB_MPG  CO2EMISSIONS  \n",
       "0                   8.5                        33           196  \n",
       "1                   9.6                        29           221  \n",
       "2                   5.9                        48           136  \n",
       "3                  11.1                        25           255  \n",
       "4                  10.6                        27           244  "
      ]
     },
     "execution_count": 3,
     "metadata": {},
     "output_type": "execute_result"
    }
   ],
   "source": [
    "#linux df = pd.read_csv(\"/resources/FuelConsumption.csv\") \n",
    "df = pd.read_csv(\"../data/FuelConsumption.csv\")\n",
    "\n",
    "# take a look at the dataset\n",
    "df.head()"
   ]
  },
  {
   "cell_type": "markdown",
   "metadata": {
    "button": false,
    "deletable": true,
    "run_control": {
     "read_only": false
    }
   },
   "source": [
    "### 数据探索"
   ]
  },
  {
   "cell_type": "code",
   "execution_count": null,
   "metadata": {
    "button": false,
    "collapsed": false,
    "deletable": true,
    "run_control": {
     "read_only": false
    }
   },
   "outputs": [],
   "source": [
    "# summarize the data\n",
    "df.describe()"
   ]
  },
  {
   "cell_type": "code",
   "execution_count": null,
   "metadata": {
    "button": false,
    "collapsed": false,
    "deletable": true,
    "run_control": {
     "read_only": false
    }
   },
   "outputs": [],
   "source": [
    "cdf=df[['ENGINESIZE','CYLINDERS','FUELCONSUMPTION_COMB','CO2EMISSIONS']]\n",
    "cdf.head()"
   ]
  },
  {
   "cell_type": "code",
   "execution_count": null,
   "metadata": {
    "button": false,
    "collapsed": false,
    "deletable": true,
    "run_control": {
     "read_only": false
    }
   },
   "outputs": [],
   "source": [
    "viz=cdf[['CYLINDERS','ENGINESIZE','CO2EMISSIONS','FUELCONSUMPTION_COMB']]\n",
    "viz.hist()\n",
    "plt.show()"
   ]
  },
  {
   "cell_type": "code",
   "execution_count": null,
   "metadata": {
    "collapsed": false
   },
   "outputs": [],
   "source": [
    "plt.scatter(cdf.FUELCONSUMPTION_COMB, cdf.CO2EMISSIONS,  color='blue')\n",
    "plt.xlabel(\"FUELCONSUMPTION_COMB\")\n",
    "plt.ylabel(\"Emission\")\n",
    "plt.show()"
   ]
  },
  {
   "cell_type": "code",
   "execution_count": null,
   "metadata": {
    "button": false,
    "collapsed": false,
    "deletable": true,
    "run_control": {
     "read_only": false
    },
    "scrolled": true
   },
   "outputs": [],
   "source": [
    "plt.scatter(cdf.ENGINESIZE, cdf.CO2EMISSIONS,  color='blue')\n",
    "plt.xlabel(\"Engine size\")\n",
    "plt.ylabel(\"Emission\")\n",
    "plt.show()"
   ]
  },
  {
   "cell_type": "code",
   "execution_count": null,
   "metadata": {
    "collapsed": false
   },
   "outputs": [],
   "source": [
    "plt.scatter(cdf.CYLINDERS, cdf.CO2EMISSIONS,  color='blue')\n",
    "plt.xlabel(\"Cylinders\")\n",
    "plt.ylabel(\"Emission\")\n",
    "plt.show()"
   ]
  },
  {
   "cell_type": "markdown",
   "metadata": {
    "run_control": {}
   },
   "source": [
    "#### 创建训练和测试数据集"
   ]
  },
  {
   "cell_type": "code",
   "execution_count": null,
   "metadata": {
    "collapsed": true
   },
   "outputs": [],
   "source": [
    "msk = np.random.rand(len(df)) < 0.8\n",
    "train = cdf[msk]\n",
    "test = cdf[~msk]"
   ]
  },
  {
   "cell_type": "markdown",
   "metadata": {
    "button": false,
    "deletable": true,
    "run_control": {
     "read_only": false
    }
   },
   "source": [
    "### 简单回归模型\n",
    "### 关于线性回归\n",
    "线性回归是一个线性模型，其系数为B = (B1, ..., Bn)，目的是最小化拟合曲线在每个x上的对应的预测y值与实际y之间的方差的和。"
   ]
  },
  {
   "cell_type": "markdown",
   "metadata": {
    "run_control": {}
   },
   "source": [
    "#### 训练数据的分布"
   ]
  },
  {
   "cell_type": "code",
   "execution_count": null,
   "metadata": {
    "collapsed": false,
    "run_control": {}
   },
   "outputs": [],
   "source": [
    "plt.scatter(train.ENGINESIZE, train.CO2EMISSIONS,  color='blue')\n",
    "plt.xlabel(\"Engine size\")\n",
    "plt.ylabel(\"Emission\")\n",
    "plt.show()"
   ]
  },
  {
   "cell_type": "markdown",
   "metadata": {
    "run_control": {}
   },
   "source": [
    "#### 建模\n",
    "使用sklearn对数据建模"
   ]
  },
  {
   "cell_type": "code",
   "execution_count": null,
   "metadata": {
    "collapsed": false,
    "run_control": {}
   },
   "outputs": [],
   "source": [
    "from sklearn import linear_model\n",
    "regr = linear_model.LinearRegression()\n",
    "train_x=np.asanyarray(train[['ENGINESIZE']])\n",
    "train_y=np.asanyarray(train[['CO2EMISSIONS']])\n",
    "regr.fit (train_x, train_y)\n",
    "# The coefficients\n",
    "print ('Coefficients: ', regr.coef_)\n",
    "print ('Intercept: ', regr.intercept_)"
   ]
  },
  {
   "cell_type": "markdown",
   "metadata": {
    "run_control": {}
   },
   "source": [
    "#### 绘制输出"
   ]
  },
  {
   "cell_type": "code",
   "execution_count": null,
   "metadata": {
    "collapsed": false,
    "run_control": {}
   },
   "outputs": [],
   "source": [
    "train_y_=regr.predict(train_x)\n",
    "plt.scatter(train.ENGINESIZE, train.CO2EMISSIONS,  color='blue')\n",
    "plt.plot(train_x, train_y_ , color='black',linewidth=3)"
   ]
  },
  {
   "cell_type": "markdown",
   "metadata": {
    "run_control": {}
   },
   "source": [
    "#### 评估\n",
    "使用测试数据评估模型"
   ]
  },
  {
   "cell_type": "code",
   "execution_count": null,
   "metadata": {
    "collapsed": false,
    "run_control": {},
    "scrolled": true
   },
   "outputs": [],
   "source": [
    "test_x=np.asanyarray(test[['ENGINESIZE']])\n",
    "test_y=np.asanyarray(test[['CO2EMISSIONS']])\n",
    "test_y_=regr.predict(test_x)\n",
    "\n",
    "\n",
    "print(\"Residual sum of squares: %.2f\"\n",
    "      % np.mean((test_y_ - test_y) ** 2))\n",
    "# Explained variance score: 1 is perfect prediction\n",
    "print('Variance score: %.2f' % regr.score(test_x, test_y))\n",
    "# Plot outputs\n",
    "plt.scatter(test_x, test_y,  color='blue')\n",
    "plt.plot(test_x, test_y_, color='black', linewidth=3)\n",
    "plt.xlabel(\"Engine size\")\n",
    "plt.ylabel(\"Emission\")\n",
    "plt.show()\n"
   ]
  },
  {
   "cell_type": "markdown",
   "metadata": {},
   "source": [
    "__解释方差回归分数（explained variance regression score）:__  \n",
    "如果 $\\hat{y}$ 是预测的目标输出, y 是对应的正确的目标输出,Var是方差(标准差的平方), 那么解释方差回归分数如下：\n",
    "\n",
    "$\\texttt{explainedVariance}(y, \\hat{y}) = 1 - \\frac{Var\\{ y - \\hat{y}\\}}{Var\\{y\\}}$  \n",
    "最好的分数是1.0，越低表示拟合效果越差。"
   ]
  },
  {
   "cell_type": "markdown",
   "metadata": {},
   "source": [
    "### 非线性回归"
   ]
  },
  {
   "cell_type": "markdown",
   "metadata": {},
   "source": [
    "多项式回归是线性回归的一个特例。主要取决于你如何选择你的特征变量。看看有两个变量的多元回归:x1和x2。线性回归看起来是这样的:y=a1 \\* x1 + a2 \\* x2。\n",
    "\n",
    "假设现在你想执行一个多项式回归（让我们创建一个2阶多项式），我们将添加一些额外的特征：x1\\*x2, x1^2 和 x2^2，那么你的线性回归应该是：\n",
    "y = a1 \\* x1 + a2 \\* x2 + a3 \\* x1 \\*x2 + a4 \\* x1^2 + a5 \\* x2^2"
   ]
  },
  {
   "cell_type": "code",
   "execution_count": null,
   "metadata": {
    "collapsed": false
   },
   "outputs": [],
   "source": [
    "from sklearn.preprocessing import PolynomialFeatures\n",
    "from sklearn import linear_model\n",
    "\n",
    "test_x=np.asanyarray(test[['ENGINESIZE']])\n",
    "test_y=np.asanyarray(test[['CO2EMISSIONS']])\n",
    "\n",
    "\n",
    "poly = PolynomialFeatures(degree=2)\n",
    "train_x_poly = poly.fit_transform(train_x)"
   ]
  },
  {
   "cell_type": "code",
   "execution_count": null,
   "metadata": {
    "collapsed": false
   },
   "outputs": [],
   "source": [
    "clf = linear_model.LinearRegression()\n",
    "train_y_ = clf.fit(train_x_poly, train_y)"
   ]
  },
  {
   "cell_type": "markdown",
   "metadata": {},
   "source": [
    "### 测试"
   ]
  },
  {
   "cell_type": "code",
   "execution_count": null,
   "metadata": {
    "collapsed": false
   },
   "outputs": [],
   "source": [
    "test_x_poly = poly.fit_transform(test_x)\n",
    "test_y_ = clf.predict(test_x_poly)"
   ]
  },
  {
   "cell_type": "code",
   "execution_count": null,
   "metadata": {
    "collapsed": false
   },
   "outputs": [],
   "source": [
    "plt.scatter(test_x, test_y,  color='blue')\n",
    "plt.scatter(test_x, test_y_, linewidth=2)"
   ]
  },
  {
   "cell_type": "markdown",
   "metadata": {
    "run_control": {}
   },
   "source": [
    "### 多元回归模型\n"
   ]
  },
  {
   "cell_type": "code",
   "execution_count": null,
   "metadata": {
    "collapsed": false
   },
   "outputs": [],
   "source": [
    "from sklearn import linear_model\n",
    "regr = linear_model.LinearRegression()\n",
    "x=np.asanyarray(train[['ENGINESIZE','CYLINDERS','FUELCONSUMPTION_COMB']])\n",
    "y=np.asanyarray(train[['CO2EMISSIONS']])\n",
    "regr.fit (x, y)\n",
    "# The coefficients\n",
    "print('Coefficients: ', regr.coef_)"
   ]
  },
  {
   "cell_type": "code",
   "execution_count": null,
   "metadata": {
    "collapsed": false,
    "run_control": {}
   },
   "outputs": [],
   "source": [
    "y_=regr.predict(test[['ENGINESIZE','CYLINDERS','FUELCONSUMPTION_COMB']])\n",
    "x=np.asanyarray(test[['ENGINESIZE','CYLINDERS','FUELCONSUMPTION_COMB']])\n",
    "y=np.asanyarray(test[['CO2EMISSIONS']])\n",
    "print(\"Residual sum of squares: %.2f\"\n",
    "      % np.mean((y_ - y) ** 2))\n",
    "# Explained variance score: 1 is perfect prediction\n",
    "print('Variance score: %.2f' % regr.score(x, y))\n",
    "\n"
   ]
  }
 ],
 "metadata": {
  "anaconda-cloud": {},
  "kernelspec": {
   "display_name": "Python [default]",
   "language": "python",
   "name": "python3"
  },
  "language_info": {
   "codemirror_mode": {
    "name": "ipython",
    "version": 3
   },
   "file_extension": ".py",
   "mimetype": "text/x-python",
   "name": "python",
   "nbconvert_exporter": "python",
   "pygments_lexer": "ipython3",
   "version": "3.5.2"
  }
 },
 "nbformat": 4,
 "nbformat_minor": 0
}
