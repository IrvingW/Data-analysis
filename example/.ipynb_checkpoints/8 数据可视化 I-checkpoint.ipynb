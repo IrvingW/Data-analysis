{
 "cells": [
  {
   "cell_type": "markdown",
   "metadata": {},
   "source": [
    "<h1, align=center> &nbsp;&nbsp;&nbsp;&nbsp;&nbsp;&nbsp;&nbsp;数据科学引论 - Python之道 </h1>\n",
    "\n",
    "<h1, align=center> &nbsp;&nbsp;&nbsp;&nbsp;&nbsp;&nbsp;&nbsp;&nbsp;第8课 数据可视化 I - 美国人的死因分析</h1>"
   ]
  },
  {
   "cell_type": "markdown",
   "metadata": {},
   "source": [
    "#### 目录\n",
    "1. [美国人是怎么死的?死亡率之可视化](#top)\n",
    "1. [matplotlib库](#mpl)\n",
    "1. [获得数据](#getdata)\n",
    "1. [理解数据](#understand)\n",
    "1. [死亡: 年份](#year)\n",
    "1. [死亡: 男性 vs. 女性](#gender)\n",
    "1. [死亡: 年龄](#age)\n",
    "1. [死亡: 年龄 & 性别](#ageXgender)\n",
    "1. [死亡: 2015十大死因](#causeX2015)\n",
    "1. [死亡: 每年十大死因](#causeXyear)\n",
    "1. [死亡: 来自性别的死因](#causeXgender)\n",
    "1. [死亡: 来自年龄的死因](#causeXage)\n",
    "1. [死亡: 来自性别和年龄的死因](#causeXgenderXage)"
   ]
  },
  {
   "cell_type": "markdown",
   "metadata": {},
   "source": [
    "# 美国人是怎么死的? 死亡率之可视化"
   ]
  },
  {
   "cell_type": "markdown",
   "metadata": {},
   "source": [
    "**死亡** 一个可怕的主题，也是一个政府相当关心的主题。\n",
    "\n",
    "在美国，疾病控制和预防中心（CDC）统计了一份从1999年自2015年的数据。这份数据信息量很丰富，包括死亡年龄、死因、性别甚至种族和地理城市。\n",
    "\n",
    "对于这些数据，我们有下面三个问题 :\n",
    "- 美国最大的死因是什么? \n",
    "- 男人比女人更容易死吗? 死亡与年龄相关吗? \n",
    "- 随着时间的推移，哪些死因变得更加流行，哪些死因变得少见？"
   ]
  },
  {
   "cell_type": "markdown",
   "metadata": {},
   "source": [
    "#### 学习数据可视化"
   ]
  },
  {
   "cell_type": "markdown",
   "metadata": {},
   "source": [
    "**matplotlib**，python最流行的数据可视化包之一。\n",
    "\n",
    "有很多不同方式去使用matplotlib，在此只介绍最基础的。如果你有兴趣，更多内容见文档[here](http://matplotlib.org/)."
   ]
  },
  {
   "cell_type": "markdown",
   "metadata": {},
   "source": [
    "<a id=\"mpl\"></a>\n",
    "## 载入 `matplotlib` 库"
   ]
  },
  {
   "cell_type": "code",
   "execution_count": 1,
   "metadata": {
    "collapsed": false
   },
   "outputs": [
    {
     "data": {
      "text/plain": [
       "<module 'sys' (built-in)>"
      ]
     },
     "execution_count": 1,
     "metadata": {},
     "output_type": "execute_result"
    }
   ],
   "source": [
    "import pandas as pd\n",
    "import matplotlib.pyplot as plt\n",
    "from imp import reload\n",
    "\n",
    "#enable graphs to be displayed in notebooks\n",
    "%matplotlib inline \n",
    "\n",
    "#enable encoding of Chinese characters\n",
    "import sys\n",
    "reload(sys) \n",
    "#python2 sys.setdefaultencoding('GBK') #warning may display but is OK"
   ]
  },
  {
   "cell_type": "markdown",
   "metadata": {},
   "source": [
    "<a id=\"getdata\"></a>\n",
    "## 获得数据"
   ]
  },
  {
   "cell_type": "markdown",
   "metadata": {},
   "source": [
    "从下面的链接中下载deaths.csv"
   ]
  },
  {
   "cell_type": "code",
   "execution_count": 2,
   "metadata": {
    "collapsed": false
   },
   "outputs": [
    {
     "name": "stdout",
     "output_type": "stream",
     "text": [
      "--2017-11-29 19:37:42--  https://ibm.box.com/shared/static/10iexjaa280qz4xcdtu98xlv51hqiybe.csv\n",
      "正在解析主机 ibm.box.com (ibm.box.com)... 107.152.25.197, 107.152.24.197\n",
      "正在连接 ibm.box.com (ibm.box.com)|107.152.25.197|:443... 已连接。\n",
      "已发出 HTTP 请求，正在等待回应... 301 Moved Permanently\n",
      "位置：https://ibm.ent.box.com/shared/static/10iexjaa280qz4xcdtu98xlv51hqiybe.csv [跟随至新的 URL]\n",
      "--2017-11-29 19:37:44--  https://ibm.ent.box.com/shared/static/10iexjaa280qz4xcdtu98xlv51hqiybe.csv\n",
      "正在解析主机 ibm.ent.box.com (ibm.ent.box.com)... 107.152.25.211, 107.152.24.211\n",
      "正在连接 ibm.ent.box.com (ibm.ent.box.com)|107.152.25.211|:443... 已连接。\n",
      "已发出 HTTP 请求，正在等待回应... 302 Found\n",
      "位置：https://public.boxcloud.com/d/1/uBlU5m2L-Hwf_PBBa5T3rrIte4fmZUqcGnUKzDHXZ89yylwsu__pceVTE2A_mdYHjKxETDrUrHRBq-0YLkSIMQ9gp-9pF8loqs4L2sEYKDK8DFXXk1sQggxUhLhKq6pPfcHSEbCW_ueuVojzDmp1i0Gjrt6A55q9CYtMjPLcfwlTvfT_Yif63p5sweYLbedhbXNtojujhbKGEt1o4MdLWvCEu2g5TYSAl7y-JsTwPE90iQw6cu4LPRDkSnpzh6tMCELyXfT7uCSTgzlxOxuz3VKdDHvxZmYzgme7oQNcg-2Rz8rOsz2uqCWBkKhQdDnXFdJlkaegEIm7ixPHmH7vDEdMCnt0jDYppl-1jdbphEYBLPod18SjpNQvwR9hu6HwPmnJXOponmUlCbepIKwJR3Pr4b1yUREfMXiOtavIJyTRNq9E5C_HY4gR2aR2e-hhSx3r4Fe7ZfigVdiMvzo5e3TuyhFz7RDOoVPzuRvxkb4fUBnKQfGsrk_kY0mbhYqicy7IOKd2SHpa9OGHdwv0auNd3QcDQDC1fawdw8WSma5Z9ArpdWJTJWBbpgQYDjULNB9eF9CkDj0DgarYePsFk9rDm8yro4oD_NltItYi63VcmzUvXtphya25UDFr9jS2s-3EgMOxu19l50lRTcG_xOjCNDQbygauCfD_ta2k4KikMaCoOmV5bnfjG3wKH8ZHmxSCiJvjJNUvlkNyb-DFTYtjIHxw7eoL5yx36CKVR3Q4N0hdUT-k3_gnFdvEyWCNeFg8aeZb3THwXVITVxi36PKREhCzhiCPglFM8XsNAF8xUDVtNw2cMIOhx2NzCNJdgu6P-kWlhE-vSiMxJ8eXgab6Sv-NnOYccTdMk1aQ1fnEPo4iIFW68EezG97NviWHkIFCnkAvgVsWfXLEGkIxeWiPSDemhdDpPU9yITM5WDEdSLLzg_iE5h3KmDosBP-Dl-kaiQWiw0mH8B7JfR3nCnLJz3A6FljIM0PlmPAZy62QXAiImTEMFIrHr9eWZe_4IxIAn6z4cE5VcnZa9mLL0bnVIGnhUW_C7JGv56ZqB9Ld39a5-ARDUh00qJxaLqsMhgAbjHKDfb2xv6aYChYRss6te4g2yiIjnm-c5NXUmrNgkz1wxD1uUkndTI2eWRH_dKbcyGkWhU87mRKbTMrQ2rjmy04H5js7cuoKoJZr3271rDXGlj8nYMZk4IFyk4EkmCn6dD-Zv3-MoqmGOdXNdKVDScU./download [跟随至新的 URL]\n",
      "--2017-11-29 19:37:45--  https://public.boxcloud.com/d/1/uBlU5m2L-Hwf_PBBa5T3rrIte4fmZUqcGnUKzDHXZ89yylwsu__pceVTE2A_mdYHjKxETDrUrHRBq-0YLkSIMQ9gp-9pF8loqs4L2sEYKDK8DFXXk1sQggxUhLhKq6pPfcHSEbCW_ueuVojzDmp1i0Gjrt6A55q9CYtMjPLcfwlTvfT_Yif63p5sweYLbedhbXNtojujhbKGEt1o4MdLWvCEu2g5TYSAl7y-JsTwPE90iQw6cu4LPRDkSnpzh6tMCELyXfT7uCSTgzlxOxuz3VKdDHvxZmYzgme7oQNcg-2Rz8rOsz2uqCWBkKhQdDnXFdJlkaegEIm7ixPHmH7vDEdMCnt0jDYppl-1jdbphEYBLPod18SjpNQvwR9hu6HwPmnJXOponmUlCbepIKwJR3Pr4b1yUREfMXiOtavIJyTRNq9E5C_HY4gR2aR2e-hhSx3r4Fe7ZfigVdiMvzo5e3TuyhFz7RDOoVPzuRvxkb4fUBnKQfGsrk_kY0mbhYqicy7IOKd2SHpa9OGHdwv0auNd3QcDQDC1fawdw8WSma5Z9ArpdWJTJWBbpgQYDjULNB9eF9CkDj0DgarYePsFk9rDm8yro4oD_NltItYi63VcmzUvXtphya25UDFr9jS2s-3EgMOxu19l50lRTcG_xOjCNDQbygauCfD_ta2k4KikMaCoOmV5bnfjG3wKH8ZHmxSCiJvjJNUvlkNyb-DFTYtjIHxw7eoL5yx36CKVR3Q4N0hdUT-k3_gnFdvEyWCNeFg8aeZb3THwXVITVxi36PKREhCzhiCPglFM8XsNAF8xUDVtNw2cMIOhx2NzCNJdgu6P-kWlhE-vSiMxJ8eXgab6Sv-NnOYccTdMk1aQ1fnEPo4iIFW68EezG97NviWHkIFCnkAvgVsWfXLEGkIxeWiPSDemhdDpPU9yITM5WDEdSLLzg_iE5h3KmDosBP-Dl-kaiQWiw0mH8B7JfR3nCnLJz3A6FljIM0PlmPAZy62QXAiImTEMFIrHr9eWZe_4IxIAn6z4cE5VcnZa9mLL0bnVIGnhUW_C7JGv56ZqB9Ld39a5-ARDUh00qJxaLqsMhgAbjHKDfb2xv6aYChYRss6te4g2yiIjnm-c5NXUmrNgkz1wxD1uUkndTI2eWRH_dKbcyGkWhU87mRKbTMrQ2rjmy04H5js7cuoKoJZr3271rDXGlj8nYMZk4IFyk4EkmCn6dD-Zv3-MoqmGOdXNdKVDScU./download\n",
      "正在解析主机 public.boxcloud.com (public.boxcloud.com)... 107.152.25.200\n",
      "正在连接 public.boxcloud.com (public.boxcloud.com)|107.152.25.200|:443... 已连接。\n",
      "已发出 HTTP 请求，正在等待回应... 200 OK\n",
      "长度： 2627561 (2.5M) [text/csv]\n",
      "正在保存至: “../data/deaths.csv”\n",
      "\n",
      "../data/deaths.csv  100%[===================>]   2.50M   202KB/s    in 14s     \n",
      "\n",
      "2017-11-29 19:38:02 (181 KB/s) - 已保存 “../data/deaths.csv” [2627561/2627561])\n",
      "\n"
     ]
    }
   ],
   "source": [
    "!wget --output-document ../data/deaths.csv https://ibm.box.com/shared/static/10iexjaa280qz4xcdtu98xlv51hqiybe.csv"
   ]
  },
  {
   "cell_type": "markdown",
   "metadata": {},
   "source": [
    "读取 `deaths.csv`文件内容:"
   ]
  },
  {
   "cell_type": "code",
   "execution_count": 3,
   "metadata": {
    "collapsed": false,
    "scrolled": true
   },
   "outputs": [],
   "source": [
    "#linux df = pd.read_csv(\"/resources/data/deaths.csv\", encoding='GBK')\n",
    "df = pd.read_csv(\"../data/deaths.csv\", encoding='GBK')"
   ]
  },
  {
   "cell_type": "markdown",
   "metadata": {},
   "source": [
    "很好! 现在数据都在变量**`df`**内了"
   ]
  },
  {
   "cell_type": "markdown",
   "metadata": {},
   "source": [
    "<a id=\"understand\"></a>\n",
    "## 理解数据"
   ]
  },
  {
   "cell_type": "markdown",
   "metadata": {},
   "source": [
    "#### 前10行:"
   ]
  },
  {
   "cell_type": "code",
   "execution_count": 4,
   "metadata": {
    "collapsed": false
   },
   "outputs": [
    {
     "data": {
      "text/html": [
       "<div>\n",
       "<table border=\"1\" class=\"dataframe\">\n",
       "  <thead>\n",
       "    <tr style=\"text-align: right;\">\n",
       "      <th></th>\n",
       "      <th>Cause</th>\n",
       "      <th>CauseCN</th>\n",
       "      <th>Code-ICD-10-113</th>\n",
       "      <th>Age</th>\n",
       "      <th>Gender</th>\n",
       "      <th>Year</th>\n",
       "      <th>Deaths</th>\n",
       "      <th>Population</th>\n",
       "      <th>Crude Rate</th>\n",
       "    </tr>\n",
       "  </thead>\n",
       "  <tbody>\n",
       "    <tr>\n",
       "      <th>0</th>\n",
       "      <td>Salmonella infections</td>\n",
       "      <td>沙门氏菌感染</td>\n",
       "      <td>GR113-001</td>\n",
       "      <td>0</td>\n",
       "      <td>F</td>\n",
       "      <td>2005</td>\n",
       "      <td>0</td>\n",
       "      <td>1956682</td>\n",
       "      <td>Unreliable</td>\n",
       "    </tr>\n",
       "    <tr>\n",
       "      <th>1</th>\n",
       "      <td>Salmonella infections</td>\n",
       "      <td>沙门氏菌感染</td>\n",
       "      <td>GR113-001</td>\n",
       "      <td>0</td>\n",
       "      <td>F</td>\n",
       "      <td>2010</td>\n",
       "      <td>1</td>\n",
       "      <td>1929877</td>\n",
       "      <td>Unreliable</td>\n",
       "    </tr>\n",
       "    <tr>\n",
       "      <th>2</th>\n",
       "      <td>Salmonella infections</td>\n",
       "      <td>沙门氏菌感染</td>\n",
       "      <td>GR113-001</td>\n",
       "      <td>0</td>\n",
       "      <td>F</td>\n",
       "      <td>2015</td>\n",
       "      <td>3</td>\n",
       "      <td>1942904</td>\n",
       "      <td>Unreliable</td>\n",
       "    </tr>\n",
       "    <tr>\n",
       "      <th>3</th>\n",
       "      <td>Salmonella infections</td>\n",
       "      <td>沙门氏菌感染</td>\n",
       "      <td>GR113-001</td>\n",
       "      <td>1</td>\n",
       "      <td>F</td>\n",
       "      <td>2005</td>\n",
       "      <td>0</td>\n",
       "      <td>1950494</td>\n",
       "      <td>Unreliable</td>\n",
       "    </tr>\n",
       "    <tr>\n",
       "      <th>4</th>\n",
       "      <td>Salmonella infections</td>\n",
       "      <td>沙门氏菌感染</td>\n",
       "      <td>GR113-001</td>\n",
       "      <td>1</td>\n",
       "      <td>F</td>\n",
       "      <td>2010</td>\n",
       "      <td>0</td>\n",
       "      <td>1947217</td>\n",
       "      <td>Unreliable</td>\n",
       "    </tr>\n",
       "    <tr>\n",
       "      <th>5</th>\n",
       "      <td>Salmonella infections</td>\n",
       "      <td>沙门氏菌感染</td>\n",
       "      <td>GR113-001</td>\n",
       "      <td>1</td>\n",
       "      <td>F</td>\n",
       "      <td>2015</td>\n",
       "      <td>0</td>\n",
       "      <td>1939269</td>\n",
       "      <td>Unreliable</td>\n",
       "    </tr>\n",
       "    <tr>\n",
       "      <th>6</th>\n",
       "      <td>Salmonella infections</td>\n",
       "      <td>沙门氏菌感染</td>\n",
       "      <td>GR113-001</td>\n",
       "      <td>2</td>\n",
       "      <td>F</td>\n",
       "      <td>2005</td>\n",
       "      <td>0</td>\n",
       "      <td>1932337</td>\n",
       "      <td>Unreliable</td>\n",
       "    </tr>\n",
       "    <tr>\n",
       "      <th>7</th>\n",
       "      <td>Salmonella infections</td>\n",
       "      <td>沙门氏菌感染</td>\n",
       "      <td>GR113-001</td>\n",
       "      <td>2</td>\n",
       "      <td>F</td>\n",
       "      <td>2010</td>\n",
       "      <td>0</td>\n",
       "      <td>2004731</td>\n",
       "      <td>Unreliable</td>\n",
       "    </tr>\n",
       "    <tr>\n",
       "      <th>8</th>\n",
       "      <td>Salmonella infections</td>\n",
       "      <td>沙门氏菌感染</td>\n",
       "      <td>GR113-001</td>\n",
       "      <td>2</td>\n",
       "      <td>F</td>\n",
       "      <td>2015</td>\n",
       "      <td>0</td>\n",
       "      <td>1939979</td>\n",
       "      <td>Unreliable</td>\n",
       "    </tr>\n",
       "    <tr>\n",
       "      <th>9</th>\n",
       "      <td>Salmonella infections</td>\n",
       "      <td>沙门氏菌感染</td>\n",
       "      <td>GR113-001</td>\n",
       "      <td>3</td>\n",
       "      <td>F</td>\n",
       "      <td>2005</td>\n",
       "      <td>0</td>\n",
       "      <td>1930395</td>\n",
       "      <td>Unreliable</td>\n",
       "    </tr>\n",
       "  </tbody>\n",
       "</table>\n",
       "</div>"
      ],
      "text/plain": [
       "                   Cause CauseCN Code-ICD-10-113  Age Gender  Year  Deaths  \\\n",
       "0  Salmonella infections  沙门氏菌感染       GR113-001    0      F  2005       0   \n",
       "1  Salmonella infections  沙门氏菌感染       GR113-001    0      F  2010       1   \n",
       "2  Salmonella infections  沙门氏菌感染       GR113-001    0      F  2015       3   \n",
       "3  Salmonella infections  沙门氏菌感染       GR113-001    1      F  2005       0   \n",
       "4  Salmonella infections  沙门氏菌感染       GR113-001    1      F  2010       0   \n",
       "5  Salmonella infections  沙门氏菌感染       GR113-001    1      F  2015       0   \n",
       "6  Salmonella infections  沙门氏菌感染       GR113-001    2      F  2005       0   \n",
       "7  Salmonella infections  沙门氏菌感染       GR113-001    2      F  2010       0   \n",
       "8  Salmonella infections  沙门氏菌感染       GR113-001    2      F  2015       0   \n",
       "9  Salmonella infections  沙门氏菌感染       GR113-001    3      F  2005       0   \n",
       "\n",
       "  Population  Crude Rate  \n",
       "0    1956682  Unreliable  \n",
       "1    1929877  Unreliable  \n",
       "2    1942904  Unreliable  \n",
       "3    1950494  Unreliable  \n",
       "4    1947217  Unreliable  \n",
       "5    1939269  Unreliable  \n",
       "6    1932337  Unreliable  \n",
       "7    2004731  Unreliable  \n",
       "8    1939979  Unreliable  \n",
       "9    1930395  Unreliable  "
      ]
     },
     "execution_count": 4,
     "metadata": {},
     "output_type": "execute_result"
    }
   ],
   "source": [
    "df.head(10)"
   ]
  },
  {
   "cell_type": "markdown",
   "metadata": {},
   "source": [
    "#### 倒数5行:"
   ]
  },
  {
   "cell_type": "code",
   "execution_count": 5,
   "metadata": {
    "collapsed": false
   },
   "outputs": [
    {
     "data": {
      "text/html": [
       "<div>\n",
       "<table border=\"1\" class=\"dataframe\">\n",
       "  <thead>\n",
       "    <tr style=\"text-align: right;\">\n",
       "      <th></th>\n",
       "      <th>Cause</th>\n",
       "      <th>CauseCN</th>\n",
       "      <th>Code-ICD-10-113</th>\n",
       "      <th>Age</th>\n",
       "      <th>Gender</th>\n",
       "      <th>Year</th>\n",
       "      <th>Deaths</th>\n",
       "      <th>Population</th>\n",
       "      <th>Crude Rate</th>\n",
       "    </tr>\n",
       "  </thead>\n",
       "  <tbody>\n",
       "    <tr>\n",
       "      <th>30901</th>\n",
       "      <td>Enterocolitis due to Clostridium difficile</td>\n",
       "      <td>由于艰难梭菌引起的小肠结肠炎</td>\n",
       "      <td>GR113-136</td>\n",
       "      <td>99</td>\n",
       "      <td>M</td>\n",
       "      <td>2010</td>\n",
       "      <td>6</td>\n",
       "      <td>Not Applicable</td>\n",
       "      <td>Not Applicable</td>\n",
       "    </tr>\n",
       "    <tr>\n",
       "      <th>30902</th>\n",
       "      <td>Enterocolitis due to Clostridium difficile</td>\n",
       "      <td>由于艰难梭菌引起的小肠结肠炎</td>\n",
       "      <td>GR113-136</td>\n",
       "      <td>99</td>\n",
       "      <td>M</td>\n",
       "      <td>2015</td>\n",
       "      <td>7</td>\n",
       "      <td>Not Applicable</td>\n",
       "      <td>Not Applicable</td>\n",
       "    </tr>\n",
       "    <tr>\n",
       "      <th>30903</th>\n",
       "      <td>Enterocolitis due to Clostridium difficile</td>\n",
       "      <td>由于艰难梭菌引起的小肠结肠炎</td>\n",
       "      <td>GR113-136</td>\n",
       "      <td>100</td>\n",
       "      <td>M</td>\n",
       "      <td>2005</td>\n",
       "      <td>8</td>\n",
       "      <td>Not Applicable</td>\n",
       "      <td>Not Applicable</td>\n",
       "    </tr>\n",
       "    <tr>\n",
       "      <th>30904</th>\n",
       "      <td>Enterocolitis due to Clostridium difficile</td>\n",
       "      <td>由于艰难梭菌引起的小肠结肠炎</td>\n",
       "      <td>GR113-136</td>\n",
       "      <td>100</td>\n",
       "      <td>M</td>\n",
       "      <td>2010</td>\n",
       "      <td>4</td>\n",
       "      <td>Not Applicable</td>\n",
       "      <td>Not Applicable</td>\n",
       "    </tr>\n",
       "    <tr>\n",
       "      <th>30905</th>\n",
       "      <td>Enterocolitis due to Clostridium difficile</td>\n",
       "      <td>由于艰难梭菌引起的小肠结肠炎</td>\n",
       "      <td>GR113-136</td>\n",
       "      <td>100</td>\n",
       "      <td>M</td>\n",
       "      <td>2015</td>\n",
       "      <td>14</td>\n",
       "      <td>Not Applicable</td>\n",
       "      <td>Not Applicable</td>\n",
       "    </tr>\n",
       "  </tbody>\n",
       "</table>\n",
       "</div>"
      ],
      "text/plain": [
       "                                            Cause         CauseCN  \\\n",
       "30901  Enterocolitis due to Clostridium difficile  由于艰难梭菌引起的小肠结肠炎   \n",
       "30902  Enterocolitis due to Clostridium difficile  由于艰难梭菌引起的小肠结肠炎   \n",
       "30903  Enterocolitis due to Clostridium difficile  由于艰难梭菌引起的小肠结肠炎   \n",
       "30904  Enterocolitis due to Clostridium difficile  由于艰难梭菌引起的小肠结肠炎   \n",
       "30905  Enterocolitis due to Clostridium difficile  由于艰难梭菌引起的小肠结肠炎   \n",
       "\n",
       "      Code-ICD-10-113  Age Gender  Year  Deaths      Population  \\\n",
       "30901       GR113-136   99      M  2010       6  Not Applicable   \n",
       "30902       GR113-136   99      M  2015       7  Not Applicable   \n",
       "30903       GR113-136  100      M  2005       8  Not Applicable   \n",
       "30904       GR113-136  100      M  2010       4  Not Applicable   \n",
       "30905       GR113-136  100      M  2015      14  Not Applicable   \n",
       "\n",
       "           Crude Rate  \n",
       "30901  Not Applicable  \n",
       "30902  Not Applicable  \n",
       "30903  Not Applicable  \n",
       "30904  Not Applicable  \n",
       "30905  Not Applicable  "
      ]
     },
     "execution_count": 5,
     "metadata": {},
     "output_type": "execute_result"
    }
   ],
   "source": [
    "df.tail(5)"
   ]
  },
  {
   "cell_type": "markdown",
   "metadata": {},
   "source": [
    "#### 死亡年龄的汇总情况"
   ]
  },
  {
   "cell_type": "code",
   "execution_count": 6,
   "metadata": {
    "collapsed": false
   },
   "outputs": [
    {
     "data": {
      "text/plain": [
       "count    30906.000000\n",
       "mean        50.000000\n",
       "std         29.155231\n",
       "min          0.000000\n",
       "25%         25.000000\n",
       "50%         50.000000\n",
       "75%         75.000000\n",
       "max        100.000000\n",
       "Name: Age, dtype: float64"
      ]
     },
     "execution_count": 6,
     "metadata": {},
     "output_type": "execute_result"
    }
   ],
   "source": [
    "df.Age.describe()"
   ]
  },
  {
   "cell_type": "markdown",
   "metadata": {},
   "source": [
    "#### 数据集涉及了哪几个年份?"
   ]
  },
  {
   "cell_type": "code",
   "execution_count": null,
   "metadata": {
    "collapsed": false
   },
   "outputs": [],
   "source": [
    "df.Year.unique()"
   ]
  },
  {
   "cell_type": "markdown",
   "metadata": {},
   "source": [
    "#### 确认性别是否只有男性male和女性female。"
   ]
  },
  {
   "cell_type": "code",
   "execution_count": null,
   "metadata": {
    "collapsed": false
   },
   "outputs": [],
   "source": [
    "df.Gender.unique()"
   ]
  },
  {
   "cell_type": "markdown",
   "metadata": {},
   "source": [
    "#### 死亡人数汇总?"
   ]
  },
  {
   "cell_type": "code",
   "execution_count": null,
   "metadata": {
    "collapsed": false
   },
   "outputs": [],
   "source": [
    "df.Deaths.describe()"
   ]
  },
  {
   "cell_type": "markdown",
   "metadata": {},
   "source": [
    "#### 数据集中有哪些死因?"
   ]
  },
  {
   "cell_type": "code",
   "execution_count": null,
   "metadata": {
    "collapsed": false
   },
   "outputs": [],
   "source": [
    "causes = df[['Cause', 'CauseCN']].drop_duplicates(subset = ['Cause','CauseCN']) #remove duplicates\n",
    "causes = causes.sort_values(['Cause']) #sort\n",
    "causes.index=range(0, len(causes)) #re-index the row numbers\n",
    "causes"
   ]
  },
  {
   "cell_type": "markdown",
   "metadata": {},
   "source": [
    "<a id=\"year\"></a>\n",
    "## 死亡: 年份"
   ]
  },
  {
   "cell_type": "markdown",
   "metadata": {},
   "source": [
    "#### 再看看数据:"
   ]
  },
  {
   "cell_type": "code",
   "execution_count": null,
   "metadata": {
    "collapsed": false
   },
   "outputs": [],
   "source": [
    "df.head(3)"
   ]
  },
  {
   "cell_type": "markdown",
   "metadata": {},
   "source": [
    "####  2005, 2010，2015死亡人数分别为多少?"
   ]
  },
  {
   "cell_type": "markdown",
   "metadata": {},
   "source": [
    "我们先按照年份进行分组，然后对**死亡数**列求和，就可以得到每年的死亡数"
   ]
  },
  {
   "cell_type": "code",
   "execution_count": null,
   "metadata": {
    "collapsed": false
   },
   "outputs": [],
   "source": [
    "by_year = df.groupby(\"Year\").Deaths.sum()\n",
    "by_year"
   ]
  },
  {
   "cell_type": "markdown",
   "metadata": {},
   "source": [
    "使用 **`.plot()`**画图"
   ]
  },
  {
   "cell_type": "code",
   "execution_count": null,
   "metadata": {
    "collapsed": false,
    "scrolled": true
   },
   "outputs": [],
   "source": [
    "by_year.plot(kind = \"bar\")"
   ]
  },
  {
   "cell_type": "markdown",
   "metadata": {},
   "source": [
    "#### 我们可以用一句话重写上述过程，这样看起来更加简洁。"
   ]
  },
  {
   "cell_type": "code",
   "execution_count": null,
   "metadata": {
    "collapsed": false
   },
   "outputs": [],
   "source": [
    "# Making syntax easier to read. \\ tells Python to continue to the next line before executing \n",
    "df.groupby(\"Year\")\\\n",
    ".Deaths\\\n",
    ".sum()\\\n",
    ".plot(kind = \"bar\")"
   ]
  },
  {
   "cell_type": "markdown",
   "metadata": {},
   "source": [
    "<a id=\"gender\"></a>\n",
    "## 死亡: 男性 vs. 女性"
   ]
  },
  {
   "cell_type": "markdown",
   "metadata": {},
   "source": [
    "在2015年，哪个性别死亡率更高？"
   ]
  },
  {
   "cell_type": "code",
   "execution_count": null,
   "metadata": {
    "collapsed": false
   },
   "outputs": [],
   "source": [
    "df2015 = df[df.Year == 2015]\n",
    "\n",
    "df2015\\\n",
    ".groupby(\"Gender\")\\\n",
    ".Deaths\\\n",
    ".sum()"
   ]
  },
  {
   "cell_type": "markdown",
   "metadata": {},
   "source": [
    "#### <font color=\"red\"> 练习: </font>你可以创建一个简单的图来表示每个性别的死亡总数吗?\n",
    "\n",
    "注意，使用2015年的数据。"
   ]
  },
  {
   "cell_type": "code",
   "execution_count": null,
   "metadata": {
    "collapsed": false
   },
   "outputs": [],
   "source": [
    "## HIDE AS SOLUTION:\n",
    "df2015\\\n",
    ".groupby(\"Gender\")\\\n",
    ".Deaths\\\n",
    ".sum()\\\n",
    ".plot(kind = \"bar\")"
   ]
  },
  {
   "cell_type": "markdown",
   "metadata": {},
   "source": [
    "让我们给图上色: <font color=red>红色</font>表示女性and  <font color=蓝色>blue</font> 男性.\n",
    "我们可以这样添加颜色：\n",
    "> `.plot(kind = \"bar\", ` **`color = [\"red\", \"blue\"]`**`)`"
   ]
  },
  {
   "cell_type": "code",
   "execution_count": null,
   "metadata": {
    "collapsed": false
   },
   "outputs": [],
   "source": [
    "df2015\\\n",
    ".groupby(\"Gender\")\\\n",
    ".Deaths\\\n",
    ".sum()\\\n",
    ".plot(kind = \"bar\", color = [\"red\", \"blue\"])"
   ]
  },
  {
   "cell_type": "markdown",
   "metadata": {},
   "source": [
    "<a id=\"age\"></a>\n",
    "## 死亡: 年龄"
   ]
  },
  {
   "cell_type": "markdown",
   "metadata": {},
   "source": [
    "2015年死亡人员的年龄情况？"
   ]
  },
  {
   "cell_type": "code",
   "execution_count": null,
   "metadata": {
    "collapsed": false
   },
   "outputs": [],
   "source": [
    "df2015\\\n",
    ".groupby(\"Age\")\\\n",
    ".Deaths\\\n",
    ".sum()\\\n",
    ".plot(kind = \"bar\", color = \"grey\")"
   ]
  },
  {
   "cell_type": "markdown",
   "metadata": {},
   "source": [
    "上面这张图比较难观察，太小了！\n",
    "\n",
    "我们可以增大图的尺寸\n",
    "> `.plot(kind = \"bar\",`** figsize = [18,6]**`)`"
   ]
  },
  {
   "cell_type": "code",
   "execution_count": null,
   "metadata": {
    "collapsed": false
   },
   "outputs": [],
   "source": [
    "df2015\\\n",
    ".groupby(\"Age\")\\\n",
    ".Deaths\\\n",
    ".sum()\\\n",
    ".plot(kind = \"bar\", color = \"grey\", figsize = [18,6])"
   ]
  },
  {
   "cell_type": "markdown",
   "metadata": {},
   "source": [
    "<font color=\"green\"> 讨论: 你从图中发现了什么? </font>"
   ]
  },
  {
   "cell_type": "markdown",
   "metadata": {},
   "source": [
    "<a id=\"ageXgender\"></a>\n",
    "## 死亡: 年龄和性别"
   ]
  },
  {
   "cell_type": "markdown",
   "metadata": {},
   "source": [
    "#### 死亡年龄与性别有关吗？"
   ]
  },
  {
   "cell_type": "markdown",
   "metadata": {},
   "source": [
    "根据两个变量进行分组：\n",
    "> `.groupby(`**`[\"Age\", \"Gender\"]`**`)`"
   ]
  },
  {
   "cell_type": "code",
   "execution_count": null,
   "metadata": {
    "collapsed": false
   },
   "outputs": [],
   "source": [
    "df2015\\\n",
    ".groupby([\"Age\", \"Gender\"])\\\n",
    ".Deaths\\\n",
    ".sum()"
   ]
  },
  {
   "cell_type": "markdown",
   "metadata": {},
   "source": [
    "#### 让我们创建两个子图，分别是女性和男性的死亡年龄。\n",
    "> ...  \n",
    "> **`.unstack(1)`**`\\`  \n",
    "> `.plot(kind = \"bar\", ` **` subplots = True`**`)`"
   ]
  },
  {
   "cell_type": "code",
   "execution_count": null,
   "metadata": {
    "collapsed": false
   },
   "outputs": [],
   "source": [
    "df2015\\\n",
    ".groupby([\"Age\", \"Gender\"])\\\n",
    ".Deaths\\\n",
    ".sum()\\\n",
    ".unstack(1)\\\n",
    ".plot(kind = \"bar\", color = [\"red\",\"blue\"], figsize = [18,10], subplots = True)"
   ]
  },
  {
   "cell_type": "markdown",
   "metadata": {},
   "source": [
    "<font color=\"green\"> 讨论: 从图中你发现了什么? </font>"
   ]
  },
  {
   "cell_type": "markdown",
   "metadata": {},
   "source": [
    "我们可以把男性和女性的数据堆在一张图里：\n",
    ">`.plot(kind = \"bar\", ` **`stacked = True`**`)`"
   ]
  },
  {
   "cell_type": "code",
   "execution_count": null,
   "metadata": {
    "collapsed": false
   },
   "outputs": [],
   "source": [
    "df2015\\\n",
    ".groupby([\"Age\", \"Gender\"])\\\n",
    ".Deaths\\\n",
    ".sum()\\\n",
    ".unstack(1)\\\n",
    ".plot(kind = \"bar\", color = [\"red\",\"blue\"], figsize = [18,10], stacked = True)"
   ]
  },
  {
   "cell_type": "markdown",
   "metadata": {},
   "source": [
    "但是这并不能很好地对比两个性别的差距。"
   ]
  },
  {
   "cell_type": "markdown",
   "metadata": {},
   "source": [
    "#### 因为年龄是数值变量，所以使用折线图可能更加容易对比:\n",
    "> `.plot(kind = \"`**`line`**`\")`"
   ]
  },
  {
   "cell_type": "code",
   "execution_count": null,
   "metadata": {
    "collapsed": false
   },
   "outputs": [],
   "source": [
    "df2015\\\n",
    ".groupby([\"Age\", \"Gender\"])\\\n",
    ".Deaths\\\n",
    ".sum()\\\n",
    ".unstack(1)\\\n",
    ".plot(kind = \"line\", figsize = [18,10], subplots = True)"
   ]
  },
  {
   "cell_type": "markdown",
   "metadata": {},
   "source": [
    "有了曲线之后，对比变得方便了，我们要把两根线同时绘制到一张图:\n",
    ">`...`  \n",
    ">**`.unstack(1)`**`\\`  \n",
    ">`.plot(kind = \"line\")   #Default: subplots = False`"
   ]
  },
  {
   "cell_type": "code",
   "execution_count": null,
   "metadata": {
    "collapsed": false
   },
   "outputs": [],
   "source": [
    "df2015\\\n",
    ".groupby([\"Age\", \"Gender\"])\\\n",
    ".Deaths\\\n",
    ".sum()\\\n",
    ".unstack(1)\\\n",
    ".plot(kind = \"line\", color = [\"red\",\"blue\"], figsize = [18,6])"
   ]
  },
  {
   "cell_type": "markdown",
   "metadata": {},
   "source": [
    "让我们增加一个题目和y坐标的名称。\n",
    "\n",
    "> `.plot(kind = \"line\",` **`title = \"Deaths in 2015 by Age and Gender\"`**`)`\n"
   ]
  },
  {
   "cell_type": "code",
   "execution_count": null,
   "metadata": {
    "collapsed": false
   },
   "outputs": [],
   "source": [
    "df2015\\\n",
    ".groupby([\"Age\", \"Gender\"])\\\n",
    ".Deaths\\\n",
    ".sum()\\\n",
    ".unstack(1)\\\n",
    ".plot(kind = \"line\", color = [\"red\",\"blue\"], figsize = [10,6], title = \"Deaths in 2015 by Age and Gender\")"
   ]
  },
  {
   "cell_type": "markdown",
   "metadata": {},
   "source": [
    "<a id=\"causeX2015\"></a>\n",
    "## 死亡: 2015年最大死因"
   ]
  },
  {
   "cell_type": "markdown",
   "metadata": {},
   "source": [
    "让我们查看一下2015年最大的死因。"
   ]
  },
  {
   "cell_type": "code",
   "execution_count": null,
   "metadata": {
    "collapsed": false,
    "scrolled": false
   },
   "outputs": [],
   "source": [
    "df2015\\\n",
    ".groupby([\"Cause\"])\\\n",
    ".Deaths\\\n",
    ".sum()\\\n",
    ".plot(kind = \"bar\", color = \"black\")"
   ]
  },
  {
   "cell_type": "markdown",
   "metadata": {},
   "source": [
    "这张图观察起来非常困难，我们需要先对数据**排序**，然后将图表**旋转90度**。\n",
    "1. 数据排序:\n",
    "> **`.sort('Deaths', ascending = True)`**\n",
    "\n",
    "2. 创建水平柱状图 \n",
    "> **`.plot(kind = \"barh\")`**"
   ]
  },
  {
   "cell_type": "code",
   "execution_count": null,
   "metadata": {
    "collapsed": false
   },
   "outputs": [],
   "source": [
    "df2015\\\n",
    ".groupby([\"Cause\"])\\\n",
    ".agg({'Deaths' : sum})\\\n",
    ".sort_values('Deaths', ascending = True)\\\n",
    ".plot(kind = \"barh\", legend = False, color = \"black\", figsize = [10,8])"
   ]
  },
  {
   "cell_type": "markdown",
   "metadata": {},
   "source": [
    "#### 让我们找出2015年十大死因\n",
    "\n",
    "我们可以早排序后取最后的10个：:\n",
    ">`.sort('Deaths', ascending = True)`**`[-10:]`**`\\`"
   ]
  },
  {
   "cell_type": "code",
   "execution_count": null,
   "metadata": {
    "collapsed": false
   },
   "outputs": [],
   "source": [
    "df2015\\\n",
    ".groupby([\"Cause\"])\\\n",
    ".agg({'Deaths' : sum})\\\n",
    ".sort_values('Deaths')[-10:]\\\n",
    ".plot(kind = \"barh\", legend = False, color = \"black\", figsize = [10,8], title = \"2015 Top 10 Causes of Death in USA\")"
   ]
  },
  {
   "cell_type": "markdown",
   "metadata": {},
   "source": [
    "<a id=\"causeXyear\"></a>\n",
    "## 死亡: 每年的最大死因"
   ]
  },
  {
   "cell_type": "code",
   "execution_count": null,
   "metadata": {
    "collapsed": false
   },
   "outputs": [],
   "source": [
    "df\\\n",
    ".groupby([\"Cause\",\"Year\"])\\\n",
    ".agg({'Deaths' : sum})\\\n",
    ".sort_values('Deaths', ascending = False)\\\n",
    ".unstack(1)\\\n",
    ".plot(kind = \"barh\", legend = True, figsize = [10,24])"
   ]
  },
  {
   "cell_type": "markdown",
   "metadata": {},
   "source": [
    "这张图内容太多，有很多信息并不直观，例如，你注意到HIV的死亡率在2005年后逐渐走低了吗？\n"
   ]
  },
  {
   "cell_type": "markdown",
   "metadata": {},
   "source": [
    "<a id=\"causeXgender\"></a>\n",
    "## 死亡: 跟性别有关的死因"
   ]
  },
  {
   "cell_type": "code",
   "execution_count": null,
   "metadata": {
    "collapsed": false
   },
   "outputs": [],
   "source": [
    "df2015\\\n",
    ".sort_values('Deaths', ascending = False)\\\n",
    ".groupby([\"Cause\",\"Gender\"])\\\n",
    ".agg({'Deaths' : sum})\\\n",
    ".unstack(1)\\\n",
    ".plot(kind = \"barh\", color = [\"red\", \"blue\"], legend = True, figsize = [10,24])"
   ]
  },
  {
   "cell_type": "markdown",
   "metadata": {},
   "source": [
    "<a id=\"causeXage\"></a>\n",
    "## 死亡: 跟年龄有关的死因"
   ]
  },
  {
   "cell_type": "markdown",
   "metadata": {},
   "source": [
    "因为这里死因太多了，年龄也多，交叉在一起图表会非常地大，所以我们只选择其中一些死因来可视化：\n",
    "\n",
    "- \"Alzheimer's disease\" \n",
    "- \"Diseases of heart\" \n",
    "- \"Malignant neoplasms\" \n",
    "- \"Accidents (unintentional injuries)\""
   ]
  },
  {
   "cell_type": "code",
   "execution_count": null,
   "metadata": {
    "collapsed": false,
    "scrolled": true
   },
   "outputs": [],
   "source": [
    "clist = [\"Alzheimer's disease\", \n",
    "         \"Diseases of heart\", \n",
    "         \"Malignant neoplasms\", \n",
    "         \"Accidents (unintentional injuries)\"]\n",
    "\n",
    "df2015_clist = df2015[df2015[\"Cause\"].isin(clist)]\n",
    "\n",
    "df2015_clist\\\n",
    ".groupby([\"Age\",\"Cause\"])\\\n",
    ".agg({'Deaths' : sum})\\\n",
    ".sort_values('Deaths', ascending = False)\\\n",
    ".unstack(1)\\\n",
    ".plot(kind = \"line\", legend = True, figsize = [10,6])"
   ]
  },
  {
   "cell_type": "markdown",
   "metadata": {},
   "source": [
    "<a id=\"causeXgenderXage\"></a>\n",
    "## 死亡: 死因与性别、年龄的关系"
   ]
  },
  {
   "cell_type": "markdown",
   "metadata": {},
   "source": [
    "对两个性别、三个年份、51种死因的交叉可视化是十分苦难的。因为内容太多，难以放入一张图中。\n",
    "最好的做法是选择性地展示一些有意义的数据。\n"
   ]
  },
  {
   "cell_type": "code",
   "execution_count": null,
   "metadata": {
    "collapsed": false,
    "scrolled": false
   },
   "outputs": [],
   "source": [
    "clist = df.Cause.unique()\n",
    "\n",
    "for cause in clist:\n",
    "    df2015_clist = df2015[df2015[\"Cause\"].isin([cause])]\n",
    "    \n",
    "    df2015_clist\\\n",
    "    .groupby([\"Age\",\"Gender\"])\\\n",
    "    .agg({'Deaths' : sum})\\\n",
    "    .unstack([1])\\\n",
    "    .plot(kind = \"line\", legend = True, color=('r','b'), figsize = [10,8], title = str(cause))"
   ]
  },
  {
   "cell_type": "markdown",
   "metadata": {},
   "source": [
    "<hr>"
   ]
  },
  {
   "cell_type": "markdown",
   "metadata": {},
   "source": [
    "<font color=\"green\"> 讨论: 上述图中你们发现了什么? </font>"
   ]
  }
 ],
 "metadata": {
  "anaconda-cloud": {},
  "kernelspec": {
   "display_name": "Python [default]",
   "language": "python",
   "name": "python3"
  },
  "language_info": {
   "codemirror_mode": {
    "name": "ipython",
    "version": 3
   },
   "file_extension": ".py",
   "mimetype": "text/x-python",
   "name": "python",
   "nbconvert_exporter": "python",
   "pygments_lexer": "ipython3",
   "version": "3.5.2"
  }
 },
 "nbformat": 4,
 "nbformat_minor": 0
}
