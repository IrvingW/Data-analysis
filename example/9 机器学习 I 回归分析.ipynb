{
 "cells": [
  {
   "cell_type": "markdown",
   "metadata": {
    "button": false,
    "deletable": true,
    "run_control": {
     "read_only": false
    }
   },
   "source": [
    "<h1, align=center> &nbsp;&nbsp;&nbsp;&nbsp;&nbsp;&nbsp;&nbsp;数据科学引论 - Python之道 </h1>\n",
    "\n",
    "<h1, align=center> &nbsp;&nbsp;&nbsp;&nbsp;&nbsp;&nbsp;&nbsp;&nbsp;第9课 机器学习</h1>\n",
    "# <center>回归分析</center>\n",
    "\n",
    "\n",
    "预测与类分类类似，但是模型适合连续的/数值的/有序的值预测。\n",
    "\n",
    "#### 关于本笔记\n",
    "在这个笔记本中，我们下载了一个数据集，它与汽车的燃料消耗和二氧化碳排放有关。然后，我们将数据分解为训练和测试集，使用训练集创建模型，使用测试集评估模型，然后使用测试集验证模型。最后使用模型进行预测。\n"
   ]
  },
  {
   "cell_type": "markdown",
   "metadata": {
    "button": false,
    "deletable": true,
    "run_control": {
     "read_only": false
    }
   },
   "source": [
    "### 加载所需库\n",
    "\n",
    "statsmomodels是一个Python模块，它允许用户查看数据、预测统计模型和执行测试。\n"
   ]
  },
  {
   "cell_type": "code",
   "execution_count": 1,
   "metadata": {
    "button": false,
    "collapsed": false,
    "deletable": true,
    "run_control": {
     "read_only": false
    }
   },
   "outputs": [],
   "source": [
    "import matplotlib.pyplot as plt\n",
    "import pandas as pd\n",
    "import pylab as pl\n",
    "import numpy as np\n",
    "%matplotlib inline"
   ]
  },
  {
   "cell_type": "markdown",
   "metadata": {
    "button": false,
    "deletable": true,
    "run_control": {
     "read_only": false
    }
   },
   "source": [
    "### 下载数据"
   ]
  },
  {
   "cell_type": "code",
   "execution_count": 2,
   "metadata": {
    "button": false,
    "collapsed": false,
    "deletable": true,
    "run_control": {
     "read_only": false
    }
   },
   "outputs": [
    {
     "name": "stdout",
     "output_type": "stream",
     "text": [
      "--2017-12-24 14:42:23--  https://ibm.box.com/shared/static/ez95yurarnp0q31l9jl1ma51mh6qtxj2.csv\n",
      "正在解析主机 ibm.box.com (ibm.box.com)... 107.152.24.197\n",
      "正在连接 ibm.box.com (ibm.box.com)|107.152.24.197|:443... 已连接。\n",
      "已发出 HTTP 请求，正在等待回应... 301 Moved Permanently\n",
      "位置：https://ibm.ent.box.com/shared/static/ez95yurarnp0q31l9jl1ma51mh6qtxj2.csv [跟随至新的 URL]\n",
      "--2017-12-24 14:42:24--  https://ibm.ent.box.com/shared/static/ez95yurarnp0q31l9jl1ma51mh6qtxj2.csv\n",
      "正在解析主机 ibm.ent.box.com (ibm.ent.box.com)... 107.152.24.211\n",
      "正在连接 ibm.ent.box.com (ibm.ent.box.com)|107.152.24.211|:443... 已连接。\n",
      "已发出 HTTP 请求，正在等待回应... 302 Found\n",
      "位置：https://public.boxcloud.com/d/1/mg0h7BtZlyIBCzq231lirNuoVKr05Bt4kHZ0buwNfWtEV4DJtuBVn_eml7n35ej8YnBLKrWE-aeBZ3-jV9x7rOFufPP7RtxzPqoAsv30KBVdB0f1XybJ3KMux9oDR3b3FFz7OirChEYLdWCf9wghBes_gzmO-Gqj9HVxcoL82LJiJyVuqE-69klI7b7R7rA1bKaYTzgtLBX4AKRVfKIYgHuX1MksPsdQt2N9a8B5GI5M3VMVfFtDtpuphfwwpnGIg-lwVJQTP7D51lLBXlELirvFhmK1kdSkDyRu-xbloxcBVX3uxL0FoEdBIK-686YFH7inqzmurnEPljgmyO3-FmYRmNe_NeJNgiTEtxLezKNpdTMJ1RYiBRKWFRp1fiuN_bs9kM7jZXOU3ao7YMZaAMV0dJPa9gdYTmIzl4vDb6VZO22bvsaU_bW6b0hWCXC5p3YEjj6QEvHXUEsOd7ehvxkSMeUK6QVR6-lr9lKExHv2RRevX1ydoNDM4eJeJZvYfJg0oz1Lva_GU2nMdBfkglTAyZkP5XliCDljHsQ20S08nEpa6BNFwgvTVw7ziMK6tMJEtvJtXPs71RkbPdCLEmRtNPhsfKyLp_8PPyutKMmRny98NPYOohPM2WTLD3k6_J2dLsUdIpZBkhD2lRmpoR141wuZfxsqlvEnTRUgVvxWFWFRyY-BR3m_0PWDJhOuTyauB4DUc9wA4a6yHOKvwkhepTTuwiAGfo_pF9DXeOmeZ35Y_RNlugBySAZ8j_915V3HfZ3CJqMbqmVS7xqH6wa_RmVtUFMrHie4-kueZ_4EkI_hqdbaupRvUDYNZTzb0SpL1mEIVukLm67MMHuT3giBTEgdtRN80VO4SGn0YzXGdhzF_CLo5-T4-ivOXEq5GWPIn0B8Rew80XiQA-eM-6mGEj_h8qc3tN3_8ojNGSPXulvsZnwonpv8M52RjT3pNmR2PiiBLZaQgmNuxog4dzdk1CYUVG_6qFVcMDsAwSgjnCboif3CFMzTxQbt9N6IUhFGrX47sTU9wjGzy1Io-a5wu_neEzDZDiFA984WbEPxwrBmNMcGzas-EaDqaZYN2Qtp-NGhtduhoWQ7Fz5kVxFR4mkbnTNPrLjJIyWJt5Gw0pdygZruDGqOvdU4No0gnHz4IighfFXRRaL3umlCHSPNsfHC3zs_xULSEBr3KUICG1oBL-HUpteaopQt61fUlZd5Hv0BOtagTZ0bwBPmpVaW2QEmE1htxjQFHdDrwDQJF8G3SfAcsSKXm5pnfwbbGYOiI2VbVtN6pVukpWpq-teUOSt8nY9utAQIQ_vIZ9AQ0fw./download [跟随至新的 URL]\n",
      "--2017-12-24 14:42:26--  https://public.boxcloud.com/d/1/mg0h7BtZlyIBCzq231lirNuoVKr05Bt4kHZ0buwNfWtEV4DJtuBVn_eml7n35ej8YnBLKrWE-aeBZ3-jV9x7rOFufPP7RtxzPqoAsv30KBVdB0f1XybJ3KMux9oDR3b3FFz7OirChEYLdWCf9wghBes_gzmO-Gqj9HVxcoL82LJiJyVuqE-69klI7b7R7rA1bKaYTzgtLBX4AKRVfKIYgHuX1MksPsdQt2N9a8B5GI5M3VMVfFtDtpuphfwwpnGIg-lwVJQTP7D51lLBXlELirvFhmK1kdSkDyRu-xbloxcBVX3uxL0FoEdBIK-686YFH7inqzmurnEPljgmyO3-FmYRmNe_NeJNgiTEtxLezKNpdTMJ1RYiBRKWFRp1fiuN_bs9kM7jZXOU3ao7YMZaAMV0dJPa9gdYTmIzl4vDb6VZO22bvsaU_bW6b0hWCXC5p3YEjj6QEvHXUEsOd7ehvxkSMeUK6QVR6-lr9lKExHv2RRevX1ydoNDM4eJeJZvYfJg0oz1Lva_GU2nMdBfkglTAyZkP5XliCDljHsQ20S08nEpa6BNFwgvTVw7ziMK6tMJEtvJtXPs71RkbPdCLEmRtNPhsfKyLp_8PPyutKMmRny98NPYOohPM2WTLD3k6_J2dLsUdIpZBkhD2lRmpoR141wuZfxsqlvEnTRUgVvxWFWFRyY-BR3m_0PWDJhOuTyauB4DUc9wA4a6yHOKvwkhepTTuwiAGfo_pF9DXeOmeZ35Y_RNlugBySAZ8j_915V3HfZ3CJqMbqmVS7xqH6wa_RmVtUFMrHie4-kueZ_4EkI_hqdbaupRvUDYNZTzb0SpL1mEIVukLm67MMHuT3giBTEgdtRN80VO4SGn0YzXGdhzF_CLo5-T4-ivOXEq5GWPIn0B8Rew80XiQA-eM-6mGEj_h8qc3tN3_8ojNGSPXulvsZnwonpv8M52RjT3pNmR2PiiBLZaQgmNuxog4dzdk1CYUVG_6qFVcMDsAwSgjnCboif3CFMzTxQbt9N6IUhFGrX47sTU9wjGzy1Io-a5wu_neEzDZDiFA984WbEPxwrBmNMcGzas-EaDqaZYN2Qtp-NGhtduhoWQ7Fz5kVxFR4mkbnTNPrLjJIyWJt5Gw0pdygZruDGqOvdU4No0gnHz4IighfFXRRaL3umlCHSPNsfHC3zs_xULSEBr3KUICG1oBL-HUpteaopQt61fUlZd5Hv0BOtagTZ0bwBPmpVaW2QEmE1htxjQFHdDrwDQJF8G3SfAcsSKXm5pnfwbbGYOiI2VbVtN6pVukpWpq-teUOSt8nY9utAQIQ_vIZ9AQ0fw./download\n",
      "正在解析主机 public.boxcloud.com (public.boxcloud.com)... 107.152.25.200, 107.152.24.200\n",
      "正在连接 public.boxcloud.com (public.boxcloud.com)|107.152.25.200|:443... 已连接。\n",
      "已发出 HTTP 请求，正在等待回应... 200 OK\n",
      "长度： 72629 (71K) [text/csv]\n",
      "正在保存至: “../data/FuelConsumption.csv”\n",
      "\n",
      "../data/FuelConsump 100%[===================>]  70.93K   113KB/s    in 0.6s    \n",
      "\n",
      "2017-12-24 14:42:29 (113 KB/s) - 已保存 “../data/FuelConsumption.csv” [72629/72629])\n",
      "\n"
     ]
    }
   ],
   "source": [
    " !wget -O ../data/FuelConsumption.csv https://ibm.box.com/shared/static/ez95yurarnp0q31l9jl1ma51mh6qtxj2.csv"
   ]
  },
  {
   "cell_type": "markdown",
   "metadata": {
    "button": false,
    "deletable": true,
    "run_control": {
     "read_only": false
    }
   },
   "source": [
    "\n",
    "## 了解数据\n",
    "\n",
    "### `FuelConsumptionCo2.csv`:\n",
    "我们下载了一个燃料消耗的数据集，包括了特定车型的燃油消耗率，以及在加拿大零售销售的新轻型车辆的二氧化碳排放量。 [数据源](http://open.canada.ca/data/en/dataset/98f1a129-f628-4ce4-b24d-6f16bf24dd64)\n",
    "\n",
    "- **MODELYEAR** 年份 e.g. 2014\n",
    "- **MAKE**  制造商 e.g. Acura\n",
    "- **MODEL** 车型 e.g. ILX\n",
    "- **VEHICLE CLASS** 车类 e.g. SUV\n",
    "- **ENGINE SIZE** 发动机大小 e.g. 4.7\n",
    "- **CYLINDERS** 汽缸 e.g 6\n",
    "- **TRANSMISSION** 变速器 e.g. A6\n",
    "- **FUEL CONSUMPTION in CITY(L/100 km)** 城市道路百公里油耗 e.g. 9.9\n",
    "- **FUEL CONSUMPTION in HWY (L/100 km)** 告诉公路百公里油耗 e.g. 8.9\n",
    "- **FUEL CONSUMPTION COMB (L/100 km)** 综合路况百公里油耗 e.g. 9.2\n",
    "- **CO2 EMISSIONS (g/km)**二氧化碳排放 e.g. 182  \n"
   ]
  },
  {
   "cell_type": "markdown",
   "metadata": {
    "button": false,
    "deletable": true,
    "run_control": {
     "read_only": false
    }
   },
   "source": [
    "## 读取数据"
   ]
  },
  {
   "cell_type": "code",
   "execution_count": 3,
   "metadata": {
    "button": false,
    "collapsed": false,
    "deletable": true,
    "run_control": {
     "read_only": false
    }
   },
   "outputs": [
    {
     "data": {
      "text/html": [
       "<div>\n",
       "<table border=\"1\" class=\"dataframe\">\n",
       "  <thead>\n",
       "    <tr style=\"text-align: right;\">\n",
       "      <th></th>\n",
       "      <th>MODELYEAR</th>\n",
       "      <th>MAKE</th>\n",
       "      <th>MODEL</th>\n",
       "      <th>VEHICLECLASS</th>\n",
       "      <th>ENGINESIZE</th>\n",
       "      <th>CYLINDERS</th>\n",
       "      <th>TRANSMISSION</th>\n",
       "      <th>FUELTYPE</th>\n",
       "      <th>FUELCONSUMPTION_CITY</th>\n",
       "      <th>FUELCONSUMPTION_HWY</th>\n",
       "      <th>FUELCONSUMPTION_COMB</th>\n",
       "      <th>FUELCONSUMPTION_COMB_MPG</th>\n",
       "      <th>CO2EMISSIONS</th>\n",
       "    </tr>\n",
       "  </thead>\n",
       "  <tbody>\n",
       "    <tr>\n",
       "      <th>0</th>\n",
       "      <td>2014</td>\n",
       "      <td>ACURA</td>\n",
       "      <td>ILX</td>\n",
       "      <td>COMPACT</td>\n",
       "      <td>2.0</td>\n",
       "      <td>4</td>\n",
       "      <td>AS5</td>\n",
       "      <td>Z</td>\n",
       "      <td>9.9</td>\n",
       "      <td>6.7</td>\n",
       "      <td>8.5</td>\n",
       "      <td>33</td>\n",
       "      <td>196</td>\n",
       "    </tr>\n",
       "    <tr>\n",
       "      <th>1</th>\n",
       "      <td>2014</td>\n",
       "      <td>ACURA</td>\n",
       "      <td>ILX</td>\n",
       "      <td>COMPACT</td>\n",
       "      <td>2.4</td>\n",
       "      <td>4</td>\n",
       "      <td>M6</td>\n",
       "      <td>Z</td>\n",
       "      <td>11.2</td>\n",
       "      <td>7.7</td>\n",
       "      <td>9.6</td>\n",
       "      <td>29</td>\n",
       "      <td>221</td>\n",
       "    </tr>\n",
       "    <tr>\n",
       "      <th>2</th>\n",
       "      <td>2014</td>\n",
       "      <td>ACURA</td>\n",
       "      <td>ILX HYBRID</td>\n",
       "      <td>COMPACT</td>\n",
       "      <td>1.5</td>\n",
       "      <td>4</td>\n",
       "      <td>AV7</td>\n",
       "      <td>Z</td>\n",
       "      <td>6.0</td>\n",
       "      <td>5.8</td>\n",
       "      <td>5.9</td>\n",
       "      <td>48</td>\n",
       "      <td>136</td>\n",
       "    </tr>\n",
       "    <tr>\n",
       "      <th>3</th>\n",
       "      <td>2014</td>\n",
       "      <td>ACURA</td>\n",
       "      <td>MDX 4WD</td>\n",
       "      <td>SUV - SMALL</td>\n",
       "      <td>3.5</td>\n",
       "      <td>6</td>\n",
       "      <td>AS6</td>\n",
       "      <td>Z</td>\n",
       "      <td>12.7</td>\n",
       "      <td>9.1</td>\n",
       "      <td>11.1</td>\n",
       "      <td>25</td>\n",
       "      <td>255</td>\n",
       "    </tr>\n",
       "    <tr>\n",
       "      <th>4</th>\n",
       "      <td>2014</td>\n",
       "      <td>ACURA</td>\n",
       "      <td>RDX AWD</td>\n",
       "      <td>SUV - SMALL</td>\n",
       "      <td>3.5</td>\n",
       "      <td>6</td>\n",
       "      <td>AS6</td>\n",
       "      <td>Z</td>\n",
       "      <td>12.1</td>\n",
       "      <td>8.7</td>\n",
       "      <td>10.6</td>\n",
       "      <td>27</td>\n",
       "      <td>244</td>\n",
       "    </tr>\n",
       "  </tbody>\n",
       "</table>\n",
       "</div>"
      ],
      "text/plain": [
       "   MODELYEAR   MAKE       MODEL VEHICLECLASS  ENGINESIZE  CYLINDERS  \\\n",
       "0       2014  ACURA         ILX      COMPACT         2.0          4   \n",
       "1       2014  ACURA         ILX      COMPACT         2.4          4   \n",
       "2       2014  ACURA  ILX HYBRID      COMPACT         1.5          4   \n",
       "3       2014  ACURA     MDX 4WD  SUV - SMALL         3.5          6   \n",
       "4       2014  ACURA     RDX AWD  SUV - SMALL         3.5          6   \n",
       "\n",
       "  TRANSMISSION FUELTYPE  FUELCONSUMPTION_CITY  FUELCONSUMPTION_HWY  \\\n",
       "0          AS5        Z                   9.9                  6.7   \n",
       "1           M6        Z                  11.2                  7.7   \n",
       "2          AV7        Z                   6.0                  5.8   \n",
       "3          AS6        Z                  12.7                  9.1   \n",
       "4          AS6        Z                  12.1                  8.7   \n",
       "\n",
       "   FUELCONSUMPTION_COMB  FUELCONSUMPTION_COMB_MPG  CO2EMISSIONS  \n",
       "0                   8.5                        33           196  \n",
       "1                   9.6                        29           221  \n",
       "2                   5.9                        48           136  \n",
       "3                  11.1                        25           255  \n",
       "4                  10.6                        27           244  "
      ]
     },
     "execution_count": 3,
     "metadata": {},
     "output_type": "execute_result"
    }
   ],
   "source": [
    "#linux df = pd.read_csv(\"/resources/FuelConsumption.csv\") \n",
    "df = pd.read_csv(\"../data/FuelConsumption.csv\")\n",
    "\n",
    "# take a look at the dataset\n",
    "df.head()"
   ]
  },
  {
   "cell_type": "markdown",
   "metadata": {
    "button": false,
    "deletable": true,
    "run_control": {
     "read_only": false
    }
   },
   "source": [
    "### 数据探索"
   ]
  },
  {
   "cell_type": "code",
   "execution_count": 4,
   "metadata": {
    "button": false,
    "collapsed": false,
    "deletable": true,
    "run_control": {
     "read_only": false
    }
   },
   "outputs": [
    {
     "data": {
      "text/html": [
       "<div>\n",
       "<table border=\"1\" class=\"dataframe\">\n",
       "  <thead>\n",
       "    <tr style=\"text-align: right;\">\n",
       "      <th></th>\n",
       "      <th>MODELYEAR</th>\n",
       "      <th>ENGINESIZE</th>\n",
       "      <th>CYLINDERS</th>\n",
       "      <th>FUELCONSUMPTION_CITY</th>\n",
       "      <th>FUELCONSUMPTION_HWY</th>\n",
       "      <th>FUELCONSUMPTION_COMB</th>\n",
       "      <th>FUELCONSUMPTION_COMB_MPG</th>\n",
       "      <th>CO2EMISSIONS</th>\n",
       "    </tr>\n",
       "  </thead>\n",
       "  <tbody>\n",
       "    <tr>\n",
       "      <th>count</th>\n",
       "      <td>1067.0</td>\n",
       "      <td>1067.000000</td>\n",
       "      <td>1067.000000</td>\n",
       "      <td>1067.000000</td>\n",
       "      <td>1067.000000</td>\n",
       "      <td>1067.000000</td>\n",
       "      <td>1067.000000</td>\n",
       "      <td>1067.000000</td>\n",
       "    </tr>\n",
       "    <tr>\n",
       "      <th>mean</th>\n",
       "      <td>2014.0</td>\n",
       "      <td>3.346298</td>\n",
       "      <td>5.794752</td>\n",
       "      <td>13.296532</td>\n",
       "      <td>9.474602</td>\n",
       "      <td>11.580881</td>\n",
       "      <td>26.441425</td>\n",
       "      <td>256.228679</td>\n",
       "    </tr>\n",
       "    <tr>\n",
       "      <th>std</th>\n",
       "      <td>0.0</td>\n",
       "      <td>1.415895</td>\n",
       "      <td>1.797447</td>\n",
       "      <td>4.101253</td>\n",
       "      <td>2.794510</td>\n",
       "      <td>3.485595</td>\n",
       "      <td>7.468702</td>\n",
       "      <td>63.372304</td>\n",
       "    </tr>\n",
       "    <tr>\n",
       "      <th>min</th>\n",
       "      <td>2014.0</td>\n",
       "      <td>1.000000</td>\n",
       "      <td>3.000000</td>\n",
       "      <td>4.600000</td>\n",
       "      <td>4.900000</td>\n",
       "      <td>4.700000</td>\n",
       "      <td>11.000000</td>\n",
       "      <td>108.000000</td>\n",
       "    </tr>\n",
       "    <tr>\n",
       "      <th>25%</th>\n",
       "      <td>2014.0</td>\n",
       "      <td>2.000000</td>\n",
       "      <td>4.000000</td>\n",
       "      <td>10.250000</td>\n",
       "      <td>7.500000</td>\n",
       "      <td>9.000000</td>\n",
       "      <td>21.000000</td>\n",
       "      <td>207.000000</td>\n",
       "    </tr>\n",
       "    <tr>\n",
       "      <th>50%</th>\n",
       "      <td>2014.0</td>\n",
       "      <td>3.400000</td>\n",
       "      <td>6.000000</td>\n",
       "      <td>12.600000</td>\n",
       "      <td>8.800000</td>\n",
       "      <td>10.900000</td>\n",
       "      <td>26.000000</td>\n",
       "      <td>251.000000</td>\n",
       "    </tr>\n",
       "    <tr>\n",
       "      <th>75%</th>\n",
       "      <td>2014.0</td>\n",
       "      <td>4.300000</td>\n",
       "      <td>8.000000</td>\n",
       "      <td>15.550000</td>\n",
       "      <td>10.850000</td>\n",
       "      <td>13.350000</td>\n",
       "      <td>31.000000</td>\n",
       "      <td>294.000000</td>\n",
       "    </tr>\n",
       "    <tr>\n",
       "      <th>max</th>\n",
       "      <td>2014.0</td>\n",
       "      <td>8.400000</td>\n",
       "      <td>12.000000</td>\n",
       "      <td>30.200000</td>\n",
       "      <td>20.500000</td>\n",
       "      <td>25.800000</td>\n",
       "      <td>60.000000</td>\n",
       "      <td>488.000000</td>\n",
       "    </tr>\n",
       "  </tbody>\n",
       "</table>\n",
       "</div>"
      ],
      "text/plain": [
       "       MODELYEAR   ENGINESIZE    CYLINDERS  FUELCONSUMPTION_CITY  \\\n",
       "count     1067.0  1067.000000  1067.000000           1067.000000   \n",
       "mean      2014.0     3.346298     5.794752             13.296532   \n",
       "std          0.0     1.415895     1.797447              4.101253   \n",
       "min       2014.0     1.000000     3.000000              4.600000   \n",
       "25%       2014.0     2.000000     4.000000             10.250000   \n",
       "50%       2014.0     3.400000     6.000000             12.600000   \n",
       "75%       2014.0     4.300000     8.000000             15.550000   \n",
       "max       2014.0     8.400000    12.000000             30.200000   \n",
       "\n",
       "       FUELCONSUMPTION_HWY  FUELCONSUMPTION_COMB  FUELCONSUMPTION_COMB_MPG  \\\n",
       "count          1067.000000           1067.000000               1067.000000   \n",
       "mean              9.474602             11.580881                 26.441425   \n",
       "std               2.794510              3.485595                  7.468702   \n",
       "min               4.900000              4.700000                 11.000000   \n",
       "25%               7.500000              9.000000                 21.000000   \n",
       "50%               8.800000             10.900000                 26.000000   \n",
       "75%              10.850000             13.350000                 31.000000   \n",
       "max              20.500000             25.800000                 60.000000   \n",
       "\n",
       "       CO2EMISSIONS  \n",
       "count   1067.000000  \n",
       "mean     256.228679  \n",
       "std       63.372304  \n",
       "min      108.000000  \n",
       "25%      207.000000  \n",
       "50%      251.000000  \n",
       "75%      294.000000  \n",
       "max      488.000000  "
      ]
     },
     "execution_count": 4,
     "metadata": {},
     "output_type": "execute_result"
    }
   ],
   "source": [
    "# summarize the data\n",
    "df.describe()"
   ]
  },
  {
   "cell_type": "code",
   "execution_count": 5,
   "metadata": {
    "button": false,
    "collapsed": false,
    "deletable": true,
    "run_control": {
     "read_only": false
    }
   },
   "outputs": [
    {
     "data": {
      "text/html": [
       "<div>\n",
       "<table border=\"1\" class=\"dataframe\">\n",
       "  <thead>\n",
       "    <tr style=\"text-align: right;\">\n",
       "      <th></th>\n",
       "      <th>ENGINESIZE</th>\n",
       "      <th>CYLINDERS</th>\n",
       "      <th>FUELCONSUMPTION_COMB</th>\n",
       "      <th>CO2EMISSIONS</th>\n",
       "    </tr>\n",
       "  </thead>\n",
       "  <tbody>\n",
       "    <tr>\n",
       "      <th>0</th>\n",
       "      <td>2.0</td>\n",
       "      <td>4</td>\n",
       "      <td>8.5</td>\n",
       "      <td>196</td>\n",
       "    </tr>\n",
       "    <tr>\n",
       "      <th>1</th>\n",
       "      <td>2.4</td>\n",
       "      <td>4</td>\n",
       "      <td>9.6</td>\n",
       "      <td>221</td>\n",
       "    </tr>\n",
       "    <tr>\n",
       "      <th>2</th>\n",
       "      <td>1.5</td>\n",
       "      <td>4</td>\n",
       "      <td>5.9</td>\n",
       "      <td>136</td>\n",
       "    </tr>\n",
       "    <tr>\n",
       "      <th>3</th>\n",
       "      <td>3.5</td>\n",
       "      <td>6</td>\n",
       "      <td>11.1</td>\n",
       "      <td>255</td>\n",
       "    </tr>\n",
       "    <tr>\n",
       "      <th>4</th>\n",
       "      <td>3.5</td>\n",
       "      <td>6</td>\n",
       "      <td>10.6</td>\n",
       "      <td>244</td>\n",
       "    </tr>\n",
       "  </tbody>\n",
       "</table>\n",
       "</div>"
      ],
      "text/plain": [
       "   ENGINESIZE  CYLINDERS  FUELCONSUMPTION_COMB  CO2EMISSIONS\n",
       "0         2.0          4                   8.5           196\n",
       "1         2.4          4                   9.6           221\n",
       "2         1.5          4                   5.9           136\n",
       "3         3.5          6                  11.1           255\n",
       "4         3.5          6                  10.6           244"
      ]
     },
     "execution_count": 5,
     "metadata": {},
     "output_type": "execute_result"
    }
   ],
   "source": [
    "cdf=df[['ENGINESIZE','CYLINDERS','FUELCONSUMPTION_COMB','CO2EMISSIONS']]\n",
    "cdf.head()"
   ]
  },
  {
   "cell_type": "code",
   "execution_count": 6,
   "metadata": {
    "button": false,
    "collapsed": false,
    "deletable": true,
    "run_control": {
     "read_only": false
    }
   },
   "outputs": [
    {
     "data": {
      "image/png": "[encoded data removed]",
      "text/plain": [
       "<matplotlib.figure.Figure at 0x7fba4f0d4470>"
      ]
     },
     "metadata": {},
     "output_type": "display_data"
    }
   ],
   "source": [
    "viz=cdf[['CYLINDERS','ENGINESIZE','CO2EMISSIONS','FUELCONSUMPTION_COMB']]\n",
    "viz.hist()\n",
    "plt.show()"
   ]
  },
  {
   "cell_type": "code",
   "execution_count": 7,
   "metadata": {
    "collapsed": false
   },
   "outputs": [
    {
     "data": {
      "image/png": "[encoded data removed]",
      "text/plain": [
       "<matplotlib.figure.Figure at 0x7fba4c56a4e0>"
      ]
     },
     "metadata": {},
     "output_type": "display_data"
    }
   ],
   "source": [
    "plt.scatter(cdf.FUELCONSUMPTION_COMB, cdf.CO2EMISSIONS,  color='blue')\n",
    "plt.xlabel(\"FUELCONSUMPTION_COMB\")\n",
    "plt.ylabel(\"Emission\")\n",
    "plt.show()"
   ]
  },
  {
   "cell_type": "code",
   "execution_count": 8,
   "metadata": {
    "button": false,
    "collapsed": false,
    "deletable": true,
    "run_control": {
     "read_only": false
    },
    "scrolled": true
   },
   "outputs": [
    {
     "data": {
      "image/png": "[encoded data removed]",
      "text/plain": [
       "<matplotlib.figure.Figure at 0x7fba4c4d5fd0>"
      ]
     },
     "metadata": {},
     "output_type": "display_data"
    }
   ],
   "source": [
    "plt.scatter(cdf.ENGINESIZE, cdf.CO2EMISSIONS,  color='blue')\n",
    "plt.xlabel(\"Engine size\")\n",
    "plt.ylabel(\"Emission\")\n",
    "plt.show()"
   ]
  },
  {
   "cell_type": "code",
   "execution_count": 9,
   "metadata": {
    "collapsed": false
   },
   "outputs": [
    {
     "data": {
      "image/png": "[encoded data removed]",
      "text/plain": [
       "<matplotlib.figure.Figure at 0x7fba4ca61e48>"
      ]
     },
     "metadata": {},
     "output_type": "display_data"
    }
   ],
   "source": [
    "plt.scatter(cdf.CYLINDERS, cdf.CO2EMISSIONS,  color='blue')\n",
    "plt.xlabel(\"Cylinders\")\n",
    "plt.ylabel(\"Emission\")\n",
    "plt.show()"
   ]
  },
  {
   "cell_type": "markdown",
   "metadata": {
    "run_control": {}
   },
   "source": [
    "#### 创建训练和测试数据集"
   ]
  },
  {
   "cell_type": "code",
   "execution_count": 10,
   "metadata": {
    "collapsed": true
   },
   "outputs": [],
   "source": [
    "msk = np.random.rand(len(df)) < 0.8\n",
    "train = cdf[msk]\n",
    "test = cdf[~msk]"
   ]
  },
  {
   "cell_type": "markdown",
   "metadata": {
    "button": false,
    "deletable": true,
    "run_control": {
     "read_only": false
    }
   },
   "source": [
    "### 简单回归模型\n",
    "### 关于线性回归\n",
    "线性回归是一个线性模型，其系数为B = (B1, ..., Bn)，目的是最小化拟合曲线在每个x上的对应的预测y值与实际y之间的方差的和。"
   ]
  },
  {
   "cell_type": "markdown",
   "metadata": {
    "run_control": {}
   },
   "source": [
    "#### 训练数据的分布"
   ]
  },
  {
   "cell_type": "code",
   "execution_count": 11,
   "metadata": {
    "collapsed": false,
    "run_control": {}
   },
   "outputs": [
    {
     "data": {
      "image/png": "[encoded data removed]",
      "text/plain": [
       "<matplotlib.figure.Figure at 0x7fba4c56eb38>"
      ]
     },
     "metadata": {},
     "output_type": "display_data"
    }
   ],
   "source": [
    "plt.scatter(train.ENGINESIZE, train.CO2EMISSIONS,  color='blue')\n",
    "plt.xlabel(\"Engine size\")\n",
    "plt.ylabel(\"Emission\")\n",
    "plt.show()"
   ]
  },
  {
   "cell_type": "markdown",
   "metadata": {
    "run_control": {}
   },
   "source": [
    "#### 建模\n",
    "使用sklearn对数据建模"
   ]
  },
  {
   "cell_type": "code",
   "execution_count": 12,
   "metadata": {
    "collapsed": false,
    "run_control": {}
   },
   "outputs": [
    {
     "name": "stdout",
     "output_type": "stream",
     "text": [
      "Coefficients:  [[ 39.23399336]]\n",
      "Intercept:  [ 124.67781724]\n"
     ]
    }
   ],
   "source": [
    "from sklearn import linear_model\n",
    "regr = linear_model.LinearRegression()\n",
    "train_x=np.asanyarray(train[['ENGINESIZE']])\n",
    "train_y=np.asanyarray(train[['CO2EMISSIONS']])\n",
    "regr.fit (train_x, train_y)\n",
    "# The coefficients\n",
    "print ('Coefficients: ', regr.coef_)\n",
    "print ('Intercept: ', regr.intercept_)"
   ]
  },
  {
   "cell_type": "code",
   "execution_count": 13,
   "metadata": {
    "collapsed": false
   },
   "outputs": [
    {
     "data": {
      "text/plain": [
       "array([[ 2. ],\n",
       "       [ 1.5],\n",
       "       [ 3.5],\n",
       "       [ 3.5],\n",
       "       [ 3.7],\n",
       "       [ 2.4],\n",
       "       [ 2.4],\n",
       "       [ 5.9],\n",
       "       [ 5.9],\n",
       "       [ 4.7],\n",
       "       [ 4.7],\n",
       "       [ 4.7],\n",
       "       [ 5.9],\n",
       "       [ 2. ],\n",
       "       [ 2. ],\n",
       "       [ 2. ],\n",
       "       [ 2. ],\n",
       "       [ 2. ],\n",
       "       [ 2. ],\n",
       "       [ 2. ],\n",
       "       [ 3. ],\n",
       "       [ 3. ],\n",
       "       [ 3. ],\n",
       "       [ 3. ],\n",
       "       [ 4. ],\n",
       "       [ 3. ],\n",
       "       [ 3. ],\n",
       "       [ 4. ],\n",
       "       [ 6.3],\n",
       "       [ 3. ],\n",
       "       [ 2. ],\n",
       "       [ 2. ],\n",
       "       [ 2. ],\n",
       "       [ 3. ],\n",
       "       [ 3. ],\n",
       "       [ 4.2],\n",
       "       [ 4.2],\n",
       "       [ 5.2],\n",
       "       [ 5.2],\n",
       "       [ 4.2],\n",
       "       [ 4.2],\n",
       "       [ 5.2],\n",
       "       [ 5.2],\n",
       "       [ 4.2],\n",
       "       [ 4. ],\n",
       "       [ 3. ],\n",
       "       [ 3. ],\n",
       "       [ 3. ],\n",
       "       [ 4. ],\n",
       "       [ 4. ],\n",
       "       [ 4. ],\n",
       "       [ 3. ],\n",
       "       [ 2. ],\n",
       "       [ 2. ],\n",
       "       [ 4. ],\n",
       "       [ 6. ],\n",
       "       [ 4. ],\n",
       "       [ 6. ],\n",
       "       [ 4. ],\n",
       "       [ 6. ],\n",
       "       [ 6.8],\n",
       "       [ 2. ],\n",
       "       [ 2. ],\n",
       "       [ 2. ],\n",
       "       [ 2. ],\n",
       "       [ 2. ],\n",
       "       [ 2. ],\n",
       "       [ 2. ],\n",
       "       [ 2. ],\n",
       "       [ 2. ],\n",
       "       [ 2. ],\n",
       "       [ 3. ],\n",
       "       [ 3. ],\n",
       "       [ 3. ],\n",
       "       [ 3. ],\n",
       "       [ 2. ],\n",
       "       [ 2. ],\n",
       "       [ 3. ],\n",
       "       [ 3. ],\n",
       "       [ 3. ],\n",
       "       [ 2. ],\n",
       "       [ 2. ],\n",
       "       [ 3. ],\n",
       "       [ 3. ],\n",
       "       [ 3. ],\n",
       "       [ 4.4],\n",
       "       [ 4.4],\n",
       "       [ 3. ],\n",
       "       [ 4.4],\n",
       "       [ 4.4],\n",
       "       [ 3. ],\n",
       "       [ 4.4],\n",
       "       [ 6. ],\n",
       "       [ 3. ],\n",
       "       [ 3. ],\n",
       "       [ 3. ],\n",
       "       [ 4.4],\n",
       "       [ 4.4],\n",
       "       [ 4.4],\n",
       "       [ 4.4],\n",
       "       [ 4.4],\n",
       "       [ 4.4],\n",
       "       [ 2. ],\n",
       "       [ 3. ],\n",
       "       [ 4.4],\n",
       "       [ 4.4],\n",
       "       [ 4.4],\n",
       "       [ 2. ],\n",
       "       [ 3. ],\n",
       "       [ 3. ],\n",
       "       [ 3. ],\n",
       "       [ 3.6],\n",
       "       [ 1.4],\n",
       "       [ 3.6],\n",
       "       [ 3.6],\n",
       "       [ 2.4],\n",
       "       [ 2. ],\n",
       "       [ 2. ],\n",
       "       [ 2. ],\n",
       "       [ 2.4],\n",
       "       [ 2. ],\n",
       "       [ 2. ],\n",
       "       [ 2.5],\n",
       "       [ 3.6],\n",
       "       [ 2. ],\n",
       "       [ 3.6],\n",
       "       [ 3.6],\n",
       "       [ 3.6],\n",
       "       [ 2. ],\n",
       "       [ 3.6],\n",
       "       [ 2. ],\n",
       "       [ 3.6],\n",
       "       [ 3.6],\n",
       "       [ 3. ],\n",
       "       [ 3.6],\n",
       "       [ 3. ],\n",
       "       [ 3.6],\n",
       "       [ 6.2],\n",
       "       [ 6.2],\n",
       "       [ 6.2],\n",
       "       [ 6.2],\n",
       "       [ 6.2],\n",
       "       [ 6.2],\n",
       "       [ 6.2],\n",
       "       [ 6.2],\n",
       "       [ 6.2],\n",
       "       [ 3.6],\n",
       "       [ 3.6],\n",
       "       [ 3.6],\n",
       "       [ 3.6],\n",
       "       [ 3.6],\n",
       "       [ 3.6],\n",
       "       [ 6.2],\n",
       "       [ 6.2],\n",
       "       [ 6.2],\n",
       "       [ 6.2],\n",
       "       [ 6.2],\n",
       "       [ 1.4],\n",
       "       [ 1.4],\n",
       "       [ 1.8],\n",
       "       [ 2. ],\n",
       "       [ 1.4],\n",
       "       [ 1.4],\n",
       "       [ 3.6],\n",
       "       [ 3.6],\n",
       "       [ 2.4],\n",
       "       [ 3.6],\n",
       "       [ 3.6],\n",
       "       [ 4.3],\n",
       "       [ 5.3],\n",
       "       [ 5.3],\n",
       "       [ 5.3],\n",
       "       [ 5.3],\n",
       "       [ 5.3],\n",
       "       [ 5.3],\n",
       "       [ 5.3],\n",
       "       [ 5.3],\n",
       "       [ 5.3],\n",
       "       [ 6. ],\n",
       "       [ 6. ],\n",
       "       [ 4.8],\n",
       "       [ 6. ],\n",
       "       [ 2.5],\n",
       "       [ 3.6],\n",
       "       [ 3.6],\n",
       "       [ 2.4],\n",
       "       [ 2.5],\n",
       "       [ 2.4],\n",
       "       [ 2.4],\n",
       "       [ 4.3],\n",
       "       [ 6.2],\n",
       "       [ 4.3],\n",
       "       [ 5.3],\n",
       "       [ 5.3],\n",
       "       [ 6.2],\n",
       "       [ 1.4],\n",
       "       [ 1.8],\n",
       "       [ 1.4],\n",
       "       [ 1.8],\n",
       "       [ 1.4],\n",
       "       [ 1.4],\n",
       "       [ 1.4],\n",
       "       [ 1.2],\n",
       "       [ 1.2],\n",
       "       [ 5.3],\n",
       "       [ 5.3],\n",
       "       [ 5.3],\n",
       "       [ 5.3],\n",
       "       [ 5.3],\n",
       "       [ 3.6],\n",
       "       [ 1.4],\n",
       "       [ 1.4],\n",
       "       [ 3.6],\n",
       "       [ 2.4],\n",
       "       [ 2.4],\n",
       "       [ 3.6],\n",
       "       [ 2.4],\n",
       "       [ 2.4],\n",
       "       [ 3.6],\n",
       "       [ 3.6],\n",
       "       [ 3.6],\n",
       "       [ 3.6],\n",
       "       [ 3.6],\n",
       "       [ 6.4],\n",
       "       [ 3.6],\n",
       "       [ 3.6],\n",
       "       [ 2.4],\n",
       "       [ 3.6],\n",
       "       [ 3.6],\n",
       "       [ 3.6],\n",
       "       [ 5.7],\n",
       "       [ 5.7],\n",
       "       [ 6.4],\n",
       "       [ 6.4],\n",
       "       [ 3.6],\n",
       "       [ 3.6],\n",
       "       [ 5.7],\n",
       "       [ 3.6],\n",
       "       [ 5.7],\n",
       "       [ 3.6],\n",
       "       [ 3.6],\n",
       "       [ 3.6],\n",
       "       [ 3.6],\n",
       "       [ 3.6],\n",
       "       [ 6.4],\n",
       "       [ 2. ],\n",
       "       [ 2.4],\n",
       "       [ 2. ],\n",
       "       [ 2. ],\n",
       "       [ 2.4],\n",
       "       [ 1.4],\n",
       "       [ 1.4],\n",
       "       [ 3.6],\n",
       "       [ 3.6],\n",
       "       [ 3.6],\n",
       "       [ 3.6],\n",
       "       [ 2.4],\n",
       "       [ 3.6],\n",
       "       [ 3.6],\n",
       "       [ 3.6],\n",
       "       [ 1.4],\n",
       "       [ 1.4],\n",
       "       [ 1.4],\n",
       "       [ 1.4],\n",
       "       [ 1.4],\n",
       "       [ 1.4],\n",
       "       [ 1.4],\n",
       "       [ 1.4],\n",
       "       [ 1.4],\n",
       "       [ 2. ],\n",
       "       [ 5.4],\n",
       "       [ 4.6],\n",
       "       [ 6.8],\n",
       "       [ 5.4],\n",
       "       [ 2. ],\n",
       "       [ 3.5],\n",
       "       [ 3.7],\n",
       "       [ 1.6],\n",
       "       [ 2.5],\n",
       "       [ 1.6],\n",
       "       [ 2. ],\n",
       "       [ 5.4],\n",
       "       [ 5.4],\n",
       "       [ 2. ],\n",
       "       [ 3.5],\n",
       "       [ 3.5],\n",
       "       [ 3.5],\n",
       "       [ 3.5],\n",
       "       [ 3.5],\n",
       "       [ 6.2],\n",
       "       [ 3.5],\n",
       "       [ 6.2],\n",
       "       [ 3.7],\n",
       "       [ 3.7],\n",
       "       [ 3.7],\n",
       "       [ 5. ],\n",
       "       [ 5. ],\n",
       "       [ 5. ],\n",
       "       [ 3.7],\n",
       "       [ 3.7],\n",
       "       [ 3.7],\n",
       "       [ 3.7],\n",
       "       [ 5. ],\n",
       "       [ 6.2],\n",
       "       [ 1.6],\n",
       "       [ 1.6],\n",
       "       [ 1.6],\n",
       "       [ 3.5],\n",
       "       [ 3.5],\n",
       "       [ 3.5],\n",
       "       [ 2. ],\n",
       "       [ 2. ],\n",
       "       [ 2. ],\n",
       "       [ 2. ],\n",
       "       [ 2. ],\n",
       "       [ 2. ],\n",
       "       [ 2. ],\n",
       "       [ 2. ],\n",
       "       [ 1.5],\n",
       "       [ 2. ],\n",
       "       [ 2.5],\n",
       "       [ 1.5],\n",
       "       [ 2. ],\n",
       "       [ 3.7],\n",
       "       [ 3.7],\n",
       "       [ 5. ],\n",
       "       [ 3.7],\n",
       "       [ 2. ],\n",
       "       [ 3.5],\n",
       "       [ 3.5],\n",
       "       [ 3.5],\n",
       "       [ 3.5],\n",
       "       [ 1.6],\n",
       "       [ 1.6],\n",
       "       [ 2.5],\n",
       "       [ 4.3],\n",
       "       [ 5.3],\n",
       "       [ 5.3],\n",
       "       [ 5.3],\n",
       "       [ 5.3],\n",
       "       [ 5.3],\n",
       "       [ 5.3],\n",
       "       [ 5.3],\n",
       "       [ 5.3],\n",
       "       [ 4.8],\n",
       "       [ 6. ],\n",
       "       [ 4.8],\n",
       "       [ 6. ],\n",
       "       [ 4.3],\n",
       "       [ 4.3],\n",
       "       [ 5.3],\n",
       "       [ 5.3],\n",
       "       [ 6.2],\n",
       "       [ 4.3],\n",
       "       [ 4.3],\n",
       "       [ 5.3],\n",
       "       [ 5.3],\n",
       "       [ 6.2],\n",
       "       [ 2.4],\n",
       "       [ 3.6],\n",
       "       [ 3.6],\n",
       "       [ 3.6],\n",
       "       [ 3.6],\n",
       "       [ 5.3],\n",
       "       [ 5.3],\n",
       "       [ 5.3],\n",
       "       [ 5.3],\n",
       "       [ 6.2],\n",
       "       [ 6.2],\n",
       "       [ 6.2],\n",
       "       [ 5.3],\n",
       "       [ 5.3],\n",
       "       [ 5.3],\n",
       "       [ 5.3],\n",
       "       [ 2.4],\n",
       "       [ 2.4],\n",
       "       [ 2.4],\n",
       "       [ 3.5],\n",
       "       [ 3.5],\n",
       "       [ 2. ],\n",
       "       [ 1.8],\n",
       "       [ 1.8],\n",
       "       [ 2.4],\n",
       "       [ 2.4],\n",
       "       [ 1.5],\n",
       "       [ 1.5],\n",
       "       [ 3.5],\n",
       "       [ 3.5],\n",
       "       [ 3.5],\n",
       "       [ 3.5],\n",
       "       [ 1.6],\n",
       "       [ 1.6],\n",
       "       [ 2. ],\n",
       "       [ 3.8],\n",
       "       [ 3.3],\n",
       "       [ 2. ],\n",
       "       [ 2.4],\n",
       "       [ 2.4],\n",
       "       [ 2.4],\n",
       "       [ 2. ],\n",
       "       [ 2.4],\n",
       "       [ 2. ],\n",
       "       [ 2.4],\n",
       "       [ 1.6],\n",
       "       [ 1.6],\n",
       "       [ 3.7],\n",
       "       [ 3.7],\n",
       "       [ 3.5],\n",
       "       [ 3.7],\n",
       "       [ 3.7],\n",
       "       [ 3.7],\n",
       "       [ 3.7],\n",
       "       [ 3.7],\n",
       "       [ 3.7],\n",
       "       [ 5.6],\n",
       "       [ 3.5],\n",
       "       [ 3.7],\n",
       "       [ 3.5],\n",
       "       [ 3.5],\n",
       "       [ 2.5],\n",
       "       [ 3.7],\n",
       "       [ 5. ],\n",
       "       [ 5.6],\n",
       "       [ 3. ],\n",
       "       [ 5. ],\n",
       "       [ 2. ],\n",
       "       [ 3. ],\n",
       "       [ 5. ],\n",
       "       [ 5. ],\n",
       "       [ 5. ],\n",
       "       [ 3. ],\n",
       "       [ 5. ],\n",
       "       [ 3. ],\n",
       "       [ 5. ],\n",
       "       [ 5. ],\n",
       "       [ 5. ],\n",
       "       [ 5. ],\n",
       "       [ 5. ],\n",
       "       [ 5. ],\n",
       "       [ 5. ],\n",
       "       [ 5. ],\n",
       "       [ 2.4],\n",
       "       [ 3.2],\n",
       "       [ 2.4],\n",
       "       [ 3.2],\n",
       "       [ 3.2],\n",
       "       [ 2.4],\n",
       "       [ 3.2],\n",
       "       [ 2. ],\n",
       "       [ 2. ],\n",
       "       [ 2.4],\n",
       "       [ 2.4],\n",
       "       [ 2.4],\n",
       "       [ 2.4],\n",
       "       [ 2.4],\n",
       "       [ 5.7],\n",
       "       [ 3. ],\n",
       "       [ 3.6],\n",
       "       [ 3.6],\n",
       "       [ 6.4],\n",
       "       [ 2. ],\n",
       "       [ 2. ],\n",
       "       [ 2.4],\n",
       "       [ 2.4],\n",
       "       [ 2.4],\n",
       "       [ 3.6],\n",
       "       [ 3.6],\n",
       "       [ 3.6],\n",
       "       [ 3.6],\n",
       "       [ 3.3],\n",
       "       [ 1.8],\n",
       "       [ 1.8],\n",
       "       [ 2. ],\n",
       "       [ 2. ],\n",
       "       [ 1.6],\n",
       "       [ 1.6],\n",
       "       [ 2. ],\n",
       "       [ 2. ],\n",
       "       [ 1.6],\n",
       "       [ 2. ],\n",
       "       [ 2. ],\n",
       "       [ 2. ],\n",
       "       [ 2.4],\n",
       "       [ 1.6],\n",
       "       [ 1.6],\n",
       "       [ 1.6],\n",
       "       [ 2. ],\n",
       "       [ 2. ],\n",
       "       [ 2.4],\n",
       "       [ 3.3],\n",
       "       [ 1.6],\n",
       "       [ 1.6],\n",
       "       [ 2. ],\n",
       "       [ 2. ],\n",
       "       [ 2.4],\n",
       "       [ 2.4],\n",
       "       [ 2. ],\n",
       "       [ 2.4],\n",
       "       [ 6.5],\n",
       "       [ 5.2],\n",
       "       [ 5.2],\n",
       "       [ 2. ],\n",
       "       [ 3. ],\n",
       "       [ 2. ],\n",
       "       [ 2. ],\n",
       "       [ 5. ],\n",
       "       [ 5. ],\n",
       "       [ 3. ],\n",
       "       [ 3. ],\n",
       "       [ 3. ],\n",
       "       [ 5. ],\n",
       "       [ 5. ],\n",
       "       [ 3. ],\n",
       "       [ 3. ],\n",
       "       [ 5. ],\n",
       "       [ 5. ],\n",
       "       [ 5. ],\n",
       "       [ 1.8],\n",
       "       [ 3.5],\n",
       "       [ 3.5],\n",
       "       [ 3.5],\n",
       "       [ 4.6],\n",
       "       [ 2.5],\n",
       "       [ 2.5],\n",
       "       [ 3.5],\n",
       "       [ 3.5],\n",
       "       [ 3.5],\n",
       "       [ 4.6],\n",
       "       [ 4.6],\n",
       "       [ 4.6],\n",
       "       [ 5. ],\n",
       "       [ 3.5],\n",
       "       [ 3.5],\n",
       "       [ 3.5],\n",
       "       [ 3.7],\n",
       "       [ 3.5],\n",
       "       [ 2. ],\n",
       "       [ 3.7],\n",
       "       [ 3.7],\n",
       "       [ 2. ],\n",
       "       [ 3.7],\n",
       "       [ 2. ],\n",
       "       [ 5.4],\n",
       "       [ 3. ],\n",
       "       [ 3. ],\n",
       "       [ 4.7],\n",
       "       [ 3. ],\n",
       "       [ 2. ],\n",
       "       [ 2. ],\n",
       "       [ 2.5],\n",
       "       [ 2. ],\n",
       "       [ 3.7],\n",
       "       [ 3.7],\n",
       "       [ 1.5],\n",
       "       [ 1.5],\n",
       "       [ 2. ],\n",
       "       [ 2. ],\n",
       "       [ 2.5],\n",
       "       [ 2.5],\n",
       "       [ 2. ],\n",
       "       [ 2. ],\n",
       "       [ 2. ],\n",
       "       [ 2.5],\n",
       "       [ 2.5],\n",
       "       [ 2.5],\n",
       "       [ 2.5],\n",
       "       [ 2.5],\n",
       "       [ 2.5],\n",
       "       [ 2. ],\n",
       "       [ 2. ],\n",
       "       [ 2. ],\n",
       "       [ 1.8],\n",
       "       [ 1.8],\n",
       "       [ 3.5],\n",
       "       [ 3.5],\n",
       "       [ 3.5],\n",
       "       [ 3.5],\n",
       "       [ 3.5],\n",
       "       [ 6.2],\n",
       "       [ 5.5],\n",
       "       [ 2. ],\n",
       "       [ 2. ],\n",
       "       [ 5.5],\n",
       "       [ 5.5],\n",
       "       [ 2.1],\n",
       "       [ 3.5],\n",
       "       [ 3.5],\n",
       "       [ 3.5],\n",
       "       [ 3.5],\n",
       "       [ 3.5],\n",
       "       [ 3.5],\n",
       "       [ 4.7],\n",
       "       [ 4.7],\n",
       "       [ 5.5],\n",
       "       [ 5.5],\n",
       "       [ 5.5],\n",
       "       [ 5.5],\n",
       "       [ 5.5],\n",
       "       [ 5.5],\n",
       "       [ 3. ],\n",
       "       [ 4.7],\n",
       "       [ 4.7],\n",
       "       [ 5.5],\n",
       "       [ 2.1],\n",
       "       [ 3.5],\n",
       "       [ 3.5],\n",
       "       [ 3.5],\n",
       "       [ 4.7],\n",
       "       [ 4.7],\n",
       "       [ 5.5],\n",
       "       [ 4.7],\n",
       "       [ 5.5],\n",
       "       [ 6. ],\n",
       "       [ 1.8],\n",
       "       [ 1.8],\n",
       "       [ 3.5],\n",
       "       [ 6.2],\n",
       "       [ 6.2],\n",
       "       [ 6.2],\n",
       "       [ 1.6],\n",
       "       [ 1.6],\n",
       "       [ 1.6],\n",
       "       [ 1.6],\n",
       "       [ 1.6],\n",
       "       [ 1.6],\n",
       "       [ 1.6],\n",
       "       [ 1.6],\n",
       "       [ 1.6],\n",
       "       [ 1.6],\n",
       "       [ 1.6],\n",
       "       [ 1.6],\n",
       "       [ 1.6],\n",
       "       [ 1.6],\n",
       "       [ 1.6],\n",
       "       [ 1.6],\n",
       "       [ 1.6],\n",
       "       [ 1.6],\n",
       "       [ 1.6],\n",
       "       [ 1.6],\n",
       "       [ 1.6],\n",
       "       [ 1.6],\n",
       "       [ 1.6],\n",
       "       [ 1.6],\n",
       "       [ 1.6],\n",
       "       [ 1.6],\n",
       "       [ 1.6],\n",
       "       [ 1.6],\n",
       "       [ 1.6],\n",
       "       [ 2. ],\n",
       "       [ 2. ],\n",
       "       [ 2. ],\n",
       "       [ 2. ],\n",
       "       [ 2. ],\n",
       "       [ 1.2],\n",
       "       [ 1.2],\n",
       "       [ 2.4],\n",
       "       [ 2.4],\n",
       "       [ 3. ],\n",
       "       [ 2. ],\n",
       "       [ 2. ],\n",
       "       [ 2. ],\n",
       "       [ 3.7],\n",
       "       [ 3.7],\n",
       "       [ 3.7],\n",
       "       [ 2.5],\n",
       "       [ 3.5],\n",
       "       [ 5.6],\n",
       "       [ 4. ],\n",
       "       [ 4. ],\n",
       "       [ 4. ],\n",
       "       [ 3.8],\n",
       "       [ 1.6],\n",
       "       [ 1.6],\n",
       "       [ 1.6],\n",
       "       [ 3.5],\n",
       "       [ 2. ],\n",
       "       [ 3.5],\n",
       "       [ 3.5],\n",
       "       [ 2.5],\n",
       "       [ 3.5],\n",
       "       [ 2.5],\n",
       "       [ 2.5],\n",
       "       [ 1.8],\n",
       "       [ 1.8],\n",
       "       [ 5.6],\n",
       "       [ 5.6],\n",
       "       [ 1.6],\n",
       "       [ 1.6],\n",
       "       [ 4. ],\n",
       "       [ 4. ],\n",
       "       [ 3.4],\n",
       "       [ 3.4],\n",
       "       [ 3.4],\n",
       "       [ 3.4],\n",
       "       [ 3.8],\n",
       "       [ 3.8],\n",
       "       [ 3.8],\n",
       "       [ 3.8],\n",
       "       [ 3.4],\n",
       "       [ 3.4],\n",
       "       [ 3.8],\n",
       "       [ 3.8],\n",
       "       [ 3.8],\n",
       "       [ 3.8],\n",
       "       [ 3.8],\n",
       "       [ 3.8],\n",
       "       [ 3.8],\n",
       "       [ 3.8],\n",
       "       [ 2.7],\n",
       "       [ 2.7],\n",
       "       [ 3.4],\n",
       "       [ 3.4],\n",
       "       [ 3.6],\n",
       "       [ 3.6],\n",
       "       [ 3. ],\n",
       "       [ 4.8],\n",
       "       [ 4.8],\n",
       "       [ 3. ],\n",
       "       [ 4.8],\n",
       "       [ 2.7],\n",
       "       [ 2.7],\n",
       "       [ 3.4],\n",
       "       [ 3.4],\n",
       "       [ 3.6],\n",
       "       [ 3.6],\n",
       "       [ 3. ],\n",
       "       [ 3. ],\n",
       "       [ 4.8],\n",
       "       [ 3. ],\n",
       "       [ 4.8],\n",
       "       [ 4.8],\n",
       "       [ 5.7],\n",
       "       [ 5.7],\n",
       "       [ 3.6],\n",
       "       [ 3. ],\n",
       "       [ 3.6],\n",
       "       [ 3.6],\n",
       "       [ 3.6],\n",
       "       [ 3.6],\n",
       "       [ 6.6],\n",
       "       [ 6.6],\n",
       "       [ 6.7],\n",
       "       [ 6.7],\n",
       "       [ 6.7],\n",
       "       [ 6.7],\n",
       "       [ 6.6],\n",
       "       [ 2. ],\n",
       "       [ 2. ],\n",
       "       [ 1.3],\n",
       "       [ 2.5],\n",
       "       [ 2.5],\n",
       "       [ 2.4],\n",
       "       [ 1.8],\n",
       "       [ 1. ],\n",
       "       [ 1. ],\n",
       "       [ 8.4],\n",
       "       [ 8.4],\n",
       "       [ 2. ],\n",
       "       [ 2. ],\n",
       "       [ 2. ],\n",
       "       [ 2.5],\n",
       "       [ 2.5],\n",
       "       [ 2. ],\n",
       "       [ 2.5],\n",
       "       [ 2.5],\n",
       "       [ 2. ],\n",
       "       [ 2. ],\n",
       "       [ 2.5],\n",
       "       [ 2.5],\n",
       "       [ 2.5],\n",
       "       [ 3.6],\n",
       "       [ 2.5],\n",
       "       [ 2.5],\n",
       "       [ 3.6],\n",
       "       [ 3.6],\n",
       "       [ 2. ],\n",
       "       [ 2. ],\n",
       "       [ 2. ],\n",
       "       [ 4. ],\n",
       "       [ 4. ],\n",
       "       [ 3.5],\n",
       "       [ 2.5],\n",
       "       [ 3.5],\n",
       "       [ 2.5],\n",
       "       [ 1.8],\n",
       "       [ 1.8],\n",
       "       [ 1.8],\n",
       "       [ 1.8],\n",
       "       [ 1.8],\n",
       "       [ 1.8],\n",
       "       [ 1.8],\n",
       "       [ 1.8],\n",
       "       [ 4. ],\n",
       "       [ 4. ],\n",
       "       [ 2.7],\n",
       "       [ 3.5],\n",
       "       [ 3.5],\n",
       "       [ 3.5],\n",
       "       [ 3.5],\n",
       "       [ 1.8],\n",
       "       [ 1.5],\n",
       "       [ 1.8],\n",
       "       [ 2.5],\n",
       "       [ 2.5],\n",
       "       [ 2.5],\n",
       "       [ 3.5],\n",
       "       [ 3.5],\n",
       "       [ 2.7],\n",
       "       [ 2.7],\n",
       "       [ 4. ],\n",
       "       [ 2.7],\n",
       "       [ 2.7],\n",
       "       [ 4. ],\n",
       "       [ 4. ],\n",
       "       [ 4. ],\n",
       "       [ 4.6],\n",
       "       [ 4.6],\n",
       "       [ 5.7],\n",
       "       [ 2.7],\n",
       "       [ 2.7],\n",
       "       [ 3.5],\n",
       "       [ 1.5],\n",
       "       [ 1.8],\n",
       "       [ 2. ],\n",
       "       [ 2. ],\n",
       "       [ 2.5],\n",
       "       [ 2.5],\n",
       "       [ 1.8],\n",
       "       [ 2. ],\n",
       "       [ 2. ],\n",
       "       [ 2. ],\n",
       "       [ 2. ],\n",
       "       [ 2. ],\n",
       "       [ 3.6],\n",
       "       [ 2. ],\n",
       "       [ 2.5],\n",
       "       [ 2.5],\n",
       "       [ 2. ],\n",
       "       [ 2. ],\n",
       "       [ 2. ],\n",
       "       [ 2. ],\n",
       "       [ 2. ],\n",
       "       [ 2. ],\n",
       "       [ 1.8],\n",
       "       [ 2.5],\n",
       "       [ 2.5],\n",
       "       [ 3.6],\n",
       "       [ 2. ],\n",
       "       [ 3.6],\n",
       "       [ 2. ],\n",
       "       [ 2. ],\n",
       "       [ 3.6],\n",
       "       [ 3. ],\n",
       "       [ 2.5],\n",
       "       [ 2.5],\n",
       "       [ 3. ],\n",
       "       [ 3.2],\n",
       "       [ 3. ],\n",
       "       [ 3.2],\n",
       "       [ 3. ],\n",
       "       [ 3.2]])"
      ]
     },
     "execution_count": 13,
     "metadata": {},
     "output_type": "execute_result"
    }
   ],
   "source": [
    "train_x"
   ]
  },
  {
   "cell_type": "markdown",
   "metadata": {
    "run_control": {}
   },
   "source": [
    "#### 绘制输出"
   ]
  },
  {
   "cell_type": "code",
   "execution_count": 14,
   "metadata": {
    "collapsed": false,
    "run_control": {}
   },
   "outputs": [
    {
     "data": {
      "text/plain": [
       "[<matplotlib.lines.Line2D at 0x7fba4c51ebe0>]"
      ]
     },
     "execution_count": 14,
     "metadata": {},
     "output_type": "execute_result"
    },
    {
     "data": {
      "image/png": "[encoded data removed]",
      "text/plain": [
       "<matplotlib.figure.Figure at 0x7fba4c51ed30>"
      ]
     },
     "metadata": {},
     "output_type": "display_data"
    }
   ],
   "source": [
    "train_y_=regr.predict(train_x)\n",
    "plt.scatter(train.ENGINESIZE, train.CO2EMISSIONS,  color='blue')\n",
    "plt.plot(train_x, train_y_ , color='black',linewidth=3)"
   ]
  },
  {
   "cell_type": "markdown",
   "metadata": {
    "run_control": {}
   },
   "source": [
    "#### 评估\n",
    "使用测试数据评估模型"
   ]
  },
  {
   "cell_type": "code",
   "execution_count": 15,
   "metadata": {
    "collapsed": false,
    "run_control": {},
    "scrolled": true
   },
   "outputs": [
    {
     "name": "stdout",
     "output_type": "stream",
     "text": [
      "Residual sum of squares: 941.14\n",
      "Variance score: 0.76\n"
     ]
    },
    {
     "data": {
      "image/png": "[encoded data removed]",
      "text/plain": [
       "<matplotlib.figure.Figure at 0x7fba4cab5cf8>"
      ]
     },
     "metadata": {},
     "output_type": "display_data"
    }
   ],
   "source": [
    "test_x=np.asanyarray(test[['ENGINESIZE']])\n",
    "test_y=np.asanyarray(test[['CO2EMISSIONS']])\n",
    "test_y_=regr.predict(test_x)\n",
    "\n",
    "\n",
    "print(\"Residual sum of squares: %.2f\"\n",
    "      % np.mean((test_y_ - test_y) ** 2))\n",
    "# Explained variance score: 1 is perfect prediction\n",
    "print('Variance score: %.2f' % regr.score(test_x, test_y))\n",
    "# Plot outputs\n",
    "plt.scatter(test_x, test_y,  color='blue')\n",
    "plt.plot(test_x, test_y_, color='black', linewidth=3)\n",
    "plt.xlabel(\"Engine size\")\n",
    "plt.ylabel(\"Emission\")\n",
    "plt.show()\n"
   ]
  },
  {
   "cell_type": "markdown",
   "metadata": {},
   "source": [
    "__解释方差回归分数（explained variance regression score）:__  \n",
    "如果 $\\hat{y}$ 是预测的目标输出, y 是对应的正确的目标输出,Var是方差(标准差的平方), 那么解释方差回归分数如下：\n",
    "\n",
    "$\\texttt{explainedVariance}(y, \\hat{y}) = 1 - \\frac{Var\\{ y - \\hat{y}\\}}{Var\\{y\\}}$  \n",
    "最好的分数是1.0，越低表示拟合效果越差。"
   ]
  },
  {
   "cell_type": "markdown",
   "metadata": {},
   "source": [
    "### 非线性回归"
   ]
  },
  {
   "cell_type": "markdown",
   "metadata": {},
   "source": [
    "多项式回归是线性回归的一个特例。主要取决于你如何选择你的特征变量。看看有两个变量的多元回归:x1和x2。线性回归看起来是这样的:y=a1 \\* x1 + a2 \\* x2。\n",
    "\n",
    "假设现在你想执行一个多项式回归（让我们创建一个2阶多项式），我们将添加一些额外的特征：x1\\*x2, x1^2 和 x2^2，那么你的线性回归应该是：\n",
    "y = a1 \\* x1 + a2 \\* x2 + a3 \\* x1 \\*x2 + a4 \\* x1^2 + a5 \\* x2^2"
   ]
  },
  {
   "cell_type": "code",
   "execution_count": 16,
   "metadata": {
    "collapsed": false
   },
   "outputs": [],
   "source": [
    "from sklearn.preprocessing import PolynomialFeatures\n",
    "from sklearn import linear_model\n",
    "\n",
    "test_x=np.asanyarray(test[['ENGINESIZE']])\n",
    "test_y=np.asanyarray(test[['CO2EMISSIONS']])\n",
    "\n",
    "\n",
    "poly = PolynomialFeatures(degree=2)\n",
    "train_x_poly = poly.fit_transform(train_x)"
   ]
  },
  {
   "cell_type": "code",
   "execution_count": 17,
   "metadata": {
    "collapsed": false
   },
   "outputs": [],
   "source": [
    "clf = linear_model.LinearRegression()\n",
    "train_y_ = clf.fit(train_x_poly, train_y)"
   ]
  },
  {
   "cell_type": "markdown",
   "metadata": {},
   "source": [
    "### 测试"
   ]
  },
  {
   "cell_type": "code",
   "execution_count": 18,
   "metadata": {
    "collapsed": false
   },
   "outputs": [],
   "source": [
    "test_x_poly = poly.fit_transform(test_x)\n",
    "test_y_ = clf.predict(test_x_poly)"
   ]
  },
  {
   "cell_type": "code",
   "execution_count": 19,
   "metadata": {
    "collapsed": false
   },
   "outputs": [
    {
     "data": {
      "text/plain": [
       "<matplotlib.collections.PathCollection at 0x7fba42730940>"
      ]
     },
     "execution_count": 19,
     "metadata": {},
     "output_type": "execute_result"
    },
    {
     "data": {
      "image/png": "[encoded data removed]",
      "text/plain": [
       "<matplotlib.figure.Figure at 0x7fba427309e8>"
      ]
     },
     "metadata": {},
     "output_type": "display_data"
    }
   ],
   "source": [
    "plt.scatter(test_x, test_y,  color='blue')\n",
    "plt.scatter(test_x, test_y_, linewidth=2)"
   ]
  },
  {
   "cell_type": "markdown",
   "metadata": {
    "run_control": {}
   },
   "source": [
    "### 多元回归模型\n"
   ]
  },
  {
   "cell_type": "code",
   "execution_count": 20,
   "metadata": {
    "collapsed": false
   },
   "outputs": [
    {
     "name": "stdout",
     "output_type": "stream",
     "text": [
      "Coefficients:  [[ 10.74602449   6.88715976  10.37720213]]\n"
     ]
    }
   ],
   "source": [
    "from sklearn import linear_model\n",
    "regr = linear_model.LinearRegression()\n",
    "x=np.asanyarray(train[['ENGINESIZE','CYLINDERS','FUELCONSUMPTION_COMB']])\n",
    "y=np.asanyarray(train[['CO2EMISSIONS']])\n",
    "regr.fit (x, y)\n",
    "# The coefficients\n",
    "print('Coefficients: ', regr.coef_)"
   ]
  },
  {
   "cell_type": "code",
   "execution_count": 21,
   "metadata": {
    "collapsed": false,
    "run_control": {}
   },
   "outputs": [
    {
     "name": "stdout",
     "output_type": "stream",
     "text": [
      "Residual sum of squares: 605.00\n",
      "Variance score: 0.85\n"
     ]
    }
   ],
   "source": [
    "y_=regr.predict(test[['ENGINESIZE','CYLINDERS','FUELCONSUMPTION_COMB']])\n",
    "x=np.asanyarray(test[['ENGINESIZE','CYLINDERS','FUELCONSUMPTION_COMB']])\n",
    "y=np.asanyarray(test[['CO2EMISSIONS']])\n",
    "print(\"Residual sum of squares: %.2f\"\n",
    "      % np.mean((y_ - y) ** 2))\n",
    "# Explained variance score: 1 is perfect prediction\n",
    "print('Variance score: %.2f' % regr.score(x, y))\n",
    "\n"
   ]
  }
 ],
 "metadata": {
  "anaconda-cloud": {},
  "kernelspec": {
   "display_name": "Python [default]",
   "language": "python",
   "name": "python3"
  },
  "language_info": {
   "codemirror_mode": {
    "name": "ipython",
    "version": 3
   },
   "file_extension": ".py",
   "mimetype": "text/x-python",
   "name": "python",
   "nbconvert_exporter": "python",
   "pygments_lexer": "ipython3",
   "version": "3.5.2"
  }
 },
 "nbformat": 4,
 "nbformat_minor": 0
}
